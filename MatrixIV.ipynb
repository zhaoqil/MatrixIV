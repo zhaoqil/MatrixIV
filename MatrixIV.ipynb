{
 "cells": [
  {
   "cell_type": "code",
   "execution_count": 1,
   "id": "db0ef7a1-8314-4a54-979d-3e6ec4398598",
   "metadata": {
    "tags": []
   },
   "outputs": [
    {
     "name": "stderr",
     "output_type": "stream",
     "text": [
      "c:\\Users\\amdeep\\Anaconda3\\envs\\bond37\\lib\\site-packages\\tqdm\\auto.py:21: TqdmWarning: IProgress not found. Please update jupyter and ipywidgets. See https://ipywidgets.readthedocs.io/en/stable/user_install.html\n",
      "  from .autonotebook import tqdm as notebook_tqdm\n",
      "2023-09-29 16:52:52,000\tINFO util.py:90 -- Missing packages: ['ipywidgets']. Run `pip install -U ipywidgets`, then restart the notebook server for rich notebook output.\n"
     ]
    }
   ],
   "source": [
    "import numpy as np\n",
    "from typing import Tuple, List, Union\n",
    "\n",
    "import numpy.random as npr\n",
    "import random\n",
    "from numpy.linalg import inv\n",
    "\n",
    "#from causaltensor.cauest import DC_PR_with_suggested_rank\n",
    "#from causaltensor.cauest import std_debiased_convex\n",
    "#from causaltensor.cauest import DC_PR_auto_rank\n",
    "\n",
    "# import causaltensor as ct\n",
    "from helper_function import *\n",
    "from algorithm import *\n",
    "import ray\n",
    "import time\n",
    "import matplotlib.pyplot as plt\n",
    "import pdb\n",
    "import pandas as pd\n",
    "\n",
    "vector = Union[np.ndarray]\n",
    "entry_matrix = Tuple[int, int, float]"
   ]
  },
  {
   "cell_type": "code",
   "execution_count": 2,
   "id": "f0c709c6-184f-418e-ab5f-1eb8ced23df5",
   "metadata": {
    "tags": []
   },
   "outputs": [],
   "source": [
    "%load_ext autoreload\n",
    "%autoreload 2"
   ]
  },
  {
   "cell_type": "code",
   "execution_count": 5,
   "id": "6967e528-3c51-4529-b084-d5825bd623de",
   "metadata": {
    "tags": []
   },
   "outputs": [
    {
     "name": "stderr",
     "output_type": "stream",
     "text": [
      "2023-09-29 15:20:52,776\tINFO worker.py:1642 -- Started a local Ray instance.\n"
     ]
    }
   ],
   "source": [
    "d1 = 100\n",
    "d2 = 100\n",
    "r = 3\n",
    "\n",
    "tau = 2\n",
    "noise_sd = 0.5\n",
    "n_iters = 50\n",
    "\n",
    "ray.shutdown()\n",
    "ray.init()\n",
    "\n",
    "start_time = time.time()\n",
    "all_results_no_instrument = ray.get(\n",
    "   [\n",
    "       worker.remote(seed, d1, d2, r, tau, noise_sd) for seed in range(n_iters)\n",
    "   ]\n",
    ").copy()\n",
    "ray.shutdown()\n",
    "duration = time.time() - start_time"
   ]
  },
  {
   "cell_type": "code",
   "execution_count": 8,
   "id": "dd059fd6-c77d-447b-b990-77fc174d771c",
   "metadata": {
    "tags": []
   },
   "outputs": [
    {
     "name": "stderr",
     "output_type": "stream",
     "text": [
      "2023-09-29 16:43:52,416\tINFO worker.py:1642 -- Started a local Ray instance.\n"
     ]
    }
   ],
   "source": [
    "d1 = 100\n",
    "d2 = 100\n",
    "r = 3\n",
    "\n",
    "tau = 2\n",
    "noise_sd = 0.5\n",
    "n_iters = 5\n",
    "\n",
    "ray.shutdown()\n",
    "ray.init()\n",
    "\n",
    "start_time = time.time()\n",
    "all_results_ols = ray.get(\n",
    "   [\n",
    "       worker_ols.remote(seed, d1, d2, r, tau, noise_sd) for seed in range(n_iters)\n",
    "   ]\n",
    ").copy()\n",
    "ray.shutdown()\n",
    "duration = time.time() - start_time"
   ]
  },
  {
   "cell_type": "code",
   "execution_count": 3,
   "id": "eec1ce8e",
   "metadata": {},
   "outputs": [
    {
     "name": "stderr",
     "output_type": "stream",
     "text": [
      "2023-09-29 16:53:00,050\tINFO worker.py:1642 -- Started a local Ray instance.\n"
     ]
    }
   ],
   "source": [
    "d1 = 100\n",
    "d2 = 100\n",
    "r = 3\n",
    "\n",
    "tau = 2\n",
    "noise_sd = 0.5\n",
    "n_iters = 5\n",
    "\n",
    "ray.shutdown()\n",
    "ray.init()\n",
    "\n",
    "start_time = time.time()\n",
    "# tau_arr = np.zeros(n_iters)\n",
    "# for t in range(n_iters):\n",
    "#     tau_arr[t] = worker_2sls(t, d1, d2, r, tau, noise_sd)\n",
    "\n",
    "\n",
    "all_results_ols = ray.get(\n",
    "   [\n",
    "       worker_ols.remote(seed, d1, d2, r, tau, noise_sd) for seed in range(n_iters)\n",
    "   ]\n",
    ").copy()\n",
    "ray.shutdown()\n",
    "duration = time.time() - start_time"
   ]
  },
  {
   "cell_type": "code",
   "execution_count": 32,
   "id": "28b98994",
   "metadata": {},
   "outputs": [
    {
     "name": "stdout",
     "output_type": "stream",
     "text": [
      "(10000, 2)\n"
     ]
    },
    {
     "data": {
      "text/plain": [
       "array([-0.5738893,  3.6368143])"
      ]
     },
     "execution_count": 32,
     "metadata": {},
     "output_type": "execute_result"
    }
   ],
   "source": [
    "def worker_ols(seed, d1, d2, r, tau, noise_sd):\n",
    "    b, z_vec, treat_mat, outcome_mat = generate_dat(seed, d1, d2, r, tau, noise_sd)\n",
    "    treat_vec = np.c_[np.ones(d1*d2).reshape([-1,1]),treat_mat.reshape([d1*d2, 1])]\n",
    "    print(treat_vec.shape)\n",
    "    outcome_vec = outcome_mat.reshape([d1*d2, 1])\n",
    "    _,tau = inv(treat_vec.T @ treat_vec) * (treat_vec.T @ outcome_vec)\n",
    "    return tau\n",
    "worker_ols(np.random.randint(1000), d1, d2, r, tau, noise_sd)"
   ]
  },
  {
   "cell_type": "code",
   "execution_count": 38,
   "id": "ba0f488f",
   "metadata": {},
   "outputs": [
    {
     "data": {
      "text/plain": [
       "array([-0.03460988,  1.77486553])"
      ]
     },
     "execution_count": 38,
     "metadata": {},
     "output_type": "execute_result"
    }
   ],
   "source": [
    "def worker_2sls(seed, d1, d2, r, tau, noise_sd):\n",
    "    b, z_vec, treat_mat, outcome_mat = generate_dat(seed, d1, d2, r, tau, noise_sd)\n",
    "    h_z_vec = opt_instrument(z_vec, treat_mat)\n",
    "    P_Z = h_z_vec.dot(inv(h_z_vec.T.dot(h_z_vec)).dot(h_z_vec.T))\n",
    "    treat_vec = np.c_[np.ones(d1*d2).reshape([-1,1]),P_Z @treat_mat.reshape([d1*d2, 1])]\n",
    "    outcome_vec = outcome_mat.reshape([d1*d2, 1])\n",
    "    _,tau = inv(treat_vec.T @  treat_vec) * (treat_vec.T @  outcome_vec)\n",
    "    return tau\n",
    "worker_2sls(np.random.randint(1000), d1, d2, r, tau, noise_sd)"
   ]
  },
  {
   "cell_type": "code",
   "execution_count": 11,
   "id": "2bad3db7-c28a-4738-8726-a6e815ccc829",
   "metadata": {
    "tags": []
   },
   "outputs": [
    {
     "data": {
      "text/plain": [
       "305.85859847068787"
      ]
     },
     "execution_count": 11,
     "metadata": {},
     "output_type": "execute_result"
    }
   ],
   "source": [
    "duration"
   ]
  },
  {
   "cell_type": "code",
   "execution_count": 4,
   "id": "d2d3b8d1-2b4a-46a9-be3e-156b18639746",
   "metadata": {
    "tags": []
   },
   "outputs": [
    {
     "name": "stdout",
     "output_type": "stream",
     "text": [
      "tau:  -0.5441077536632999 0.017993011925591162\n"
     ]
    }
   ],
   "source": [
    "tau_arr = [r[1] for r in all_results_ols]\n",
    "tau_mean = np.mean(tau_arr)\n",
    "tau_sd = np.std(tau_arr)\n",
    "print(\"tau: \", tau_mean, tau_sd)"
   ]
  },
  {
   "cell_type": "code",
   "execution_count": 27,
   "id": "ff75fb1c-f024-4daf-b551-d64f85a4a800",
   "metadata": {
    "tags": []
   },
   "outputs": [
    {
     "name": "stdout",
     "output_type": "stream",
     "text": [
      "tau:  1.9919210719640181 0.06835450252471482\n",
      "tau raw:  1.9967429509548364 0.031385432839669374\n"
     ]
    }
   ],
   "source": [
    "#M, tau, M_raw, tau_raw = DC_PR_with_suggested_rank(O, Z, suggest_r = 2)\n",
    "M_arr = [r[0] for r in all_results_no_instrument]\n",
    "tau_arr = np.array([r[1] for r in all_results_no_instrument])\n",
    "M_raw_arr = [r[2] for r in all_results_no_instrument]\n",
    "tau_raw_arr = np.array([r[3] for r in all_results_no_instrument])\n",
    "b_arr = [r[4] for r in all_results_no_instrument]\n",
    "tau_mean = np.mean(tau_arr)\n",
    "tau_sd = np.std(tau_arr)\n",
    "tau_raw_mean = np.mean(tau_raw_arr)\n",
    "tau_raw_sd = np.std(tau_raw_arr)\n",
    "print(\"tau: \", tau_mean, tau_sd)\n",
    "print(\"tau raw: \", tau_raw_mean, tau_raw_sd)"
   ]
  },
  {
   "cell_type": "code",
   "execution_count": 30,
   "id": "fc03b46f-4865-4fa2-b269-ea8b3e4a055d",
   "metadata": {
    "tags": []
   },
   "outputs": [
    {
     "data": {
      "text/plain": [
       "(array([0.21944562, 0.60347546, 3.23682292, 4.059744  , 4.60835805,\n",
       "        7.29656692, 4.44377384, 1.92014919, 0.65833686, 0.38402984]),\n",
       " array([2.89381091, 2.93026641, 2.96672191, 3.00317741, 3.03963291,\n",
       "        3.07608841, 3.11254392, 3.14899942, 3.18545492, 3.22191042,\n",
       "        3.25836592]),\n",
       " <BarContainer object of 10 artists>)"
      ]
     },
     "execution_count": 30,
     "metadata": {},
     "output_type": "execute_result"
    },
    {
     "data": {
      "image/png": "[encoded data removed]",
      "text/plain": [
       "<Figure size 640x480 with 1 Axes>"
      ]
     },
     "metadata": {},
     "output_type": "display_data"
    }
   ],
   "source": [
    "plt.hist(tau_arr, density=True)"
   ]
  },
  {
   "cell_type": "code",
   "execution_count": 12,
   "id": "8c2a223d-4877-4112-999b-0e4c82afbfbc",
   "metadata": {
    "tags": []
   },
   "outputs": [],
   "source": [
    "# calculate the estimation error \n",
    "est_err_M, est_err_M_raw, rel_err_M, rel_err_M_raw = np.zeros(n_iters), np.zeros(n_iters), np.zeros(n_iters), np.zeros(n_iters)\n",
    "for i in range(n_iters):\n",
    "    est_err_M[i] = np.linalg.norm(M_arr[i] - b_arr[i], ord=\"fro\")\n",
    "    est_err_M_raw[i] = np.linalg.norm(M_raw_arr[i] - b_arr[i], ord=\"fro\")\n",
    "    rel_err_M[i] = est_err_M[i] / np.linalg.norm(b_arr[i], ord=\"fro\")\n",
    "    rel_err_M_raw[i] = est_err_M_raw[i] / np.linalg.norm(b_arr[i], ord=\"fro\")"
   ]
  },
  {
   "cell_type": "code",
   "execution_count": 13,
   "id": "bc45c512-7391-47d5-9682-4f02984a0b01",
   "metadata": {},
   "outputs": [
    {
     "data": {
      "text/plain": [
       "(array([ 0.65919404,  2.24125973,  9.36055535, 14.10675242, 18.98478831,\n",
       "        13.18388077,  5.27355231,  1.7139045 ,  0.13183881,  0.26367762]),\n",
       " array([2.18816786, 2.2033379 , 2.21850794, 2.23367798, 2.24884802,\n",
       "        2.26401806, 2.2791881 , 2.29435814, 2.30952818, 2.32469822,\n",
       "        2.33986826]),\n",
       " <BarContainer object of 10 artists>)"
      ]
     },
     "execution_count": 13,
     "metadata": {},
     "output_type": "execute_result"
    },
    {
     "data": {
      "image/png": "[encoded data removed]",
      "text/plain": [
       "<Figure size 640x480 with 1 Axes>"
      ]
     },
     "metadata": {},
     "output_type": "display_data"
    }
   ],
   "source": [
    "plt.hist(tau_raw_arr, density=True)"
   ]
  },
  {
   "cell_type": "code",
   "execution_count": 14,
   "id": "91590c29-5576-4c08-8b8e-00df3075bf63",
   "metadata": {
    "tags": []
   },
   "outputs": [
    {
     "data": {
      "text/plain": [
       "(array([ 1.18704237,  3.22197216,  6.44394432,  9.496339  , 10.85295885,\n",
       "         5.59605691,  2.96760594,  1.8653523 ,  0.67830993,  0.08478874]),\n",
       " array([0.54602377, 0.56961181, 0.59319984, 0.61678788, 0.64037592,\n",
       "        0.66396396, 0.68755199, 0.71114003, 0.73472807, 0.75831611,\n",
       "        0.78190414]),\n",
       " <BarContainer object of 10 artists>)"
      ]
     },
     "execution_count": 14,
     "metadata": {},
     "output_type": "execute_result"
    },
    {
     "data": {
      "image/png": "[encoded data removed]",
      "text/plain": [
       "<Figure size 640x480 with 1 Axes>"
      ]
     },
     "metadata": {},
     "output_type": "display_data"
    }
   ],
   "source": [
    "plt.hist(rel_err_M, density=True)"
   ]
  },
  {
   "cell_type": "markdown",
   "id": "effad271-a9c3-4ad1-ac9d-7afdcb88624f",
   "metadata": {},
   "source": [
    "## Projection"
   ]
  },
  {
   "cell_type": "markdown",
   "id": "3059f2cd-ae73-491f-89d3-b99f5eeb55af",
   "metadata": {},
   "source": [
    "## Test base case"
   ]
  },
  {
   "cell_type": "code",
   "execution_count": 16,
   "id": "346f07e0-bf5a-46ea-bc33-a68c3ead8b9a",
   "metadata": {
    "tags": []
   },
   "outputs": [
    {
     "name": "stderr",
     "output_type": "stream",
     "text": [
      "2023-07-23 16:08:15,495\tINFO worker.py:1636 -- Started a local Ray instance.\n"
     ]
    },
    {
     "ename": "TypeError",
     "evalue": "cannot unpack non-iterable ray._raylet.ObjectRef object",
     "output_type": "error",
     "traceback": [
      "\u001b[0;31m---------------------------------------------------------------------------\u001b[0m",
      "\u001b[0;31mTypeError\u001b[0m                                 Traceback (most recent call last)",
      "Cell \u001b[0;32mIn[16], line 11\u001b[0m\n\u001b[1;32m      7\u001b[0m seed \u001b[38;5;241m=\u001b[39m \u001b[38;5;241m1\u001b[39m\n\u001b[1;32m      8\u001b[0m \u001b[38;5;66;03m#ray.shutdown()\u001b[39;00m\n\u001b[1;32m      9\u001b[0m \u001b[38;5;66;03m#ray.init()\u001b[39;00m\n\u001b[0;32m---> 11\u001b[0m M_one, tau_one, M_raw_one, tau_raw_one, b_one, t1, t2, l_one \u001b[38;5;241m=\u001b[39m worker_proj\u001b[38;5;241m.\u001b[39mremote(seed, d1, d2, r, tau, noise_sd)\n\u001b[1;32m     13\u001b[0m \u001b[38;5;66;03m#ray.shutdown()\u001b[39;00m\n",
      "\u001b[0;31mTypeError\u001b[0m: cannot unpack non-iterable ray._raylet.ObjectRef object"
     ]
    }
   ],
   "source": [
    "d1 = 100\n",
    "d2 = 100\n",
    "r = 3\n",
    "\n",
    "tau = 2\n",
    "noise_sd = 0.5\n",
    "seed = 1\n",
    "#ray.shutdown()\n",
    "#ray.init()\n",
    "\n",
    "M_one, tau_one, M_raw_one, tau_raw_one, b_one, t1, t2, l_one = worker_proj.remote(seed, d1, d2, r, tau, noise_sd)\n",
    "\n",
    "#ray.shutdown()"
   ]
  },
  {
   "cell_type": "code",
   "execution_count": 20,
   "id": "db356457-9142-4d52-838c-e274c0e1dceb",
   "metadata": {
    "collapsed": true,
    "jupyter": {
     "outputs_hidden": true
    },
    "tags": []
   },
   "outputs": [
    {
     "name": "stdout",
     "output_type": "stream",
     "text": [
      "> \u001b[0;32m/tmp/ipykernel_2490066/1749465253.py\u001b[0m(7)\u001b[0;36mdebias\u001b[0;34m()\u001b[0m\n",
      "\u001b[0;32m      5 \u001b[0;31m    \u001b[0;31m#print(s[:r+1], r)\u001b[0m\u001b[0;34m\u001b[0m\u001b[0;34m\u001b[0m\u001b[0m\n",
      "\u001b[0m\u001b[0;32m      6 \u001b[0;31m    \u001b[0mpdb\u001b[0m\u001b[0;34m.\u001b[0m\u001b[0mset_trace\u001b[0m\u001b[0;34m(\u001b[0m\u001b[0;34m)\u001b[0m\u001b[0;34m\u001b[0m\u001b[0;34m\u001b[0m\u001b[0m\n",
      "\u001b[0m\u001b[0;32m----> 7 \u001b[0;31m    \u001b[0mu\u001b[0m \u001b[0;34m=\u001b[0m \u001b[0mu\u001b[0m\u001b[0;34m[\u001b[0m\u001b[0;34m:\u001b[0m\u001b[0;34m,\u001b[0m \u001b[0;34m:\u001b[0m\u001b[0mr\u001b[0m\u001b[0;34m]\u001b[0m\u001b[0;34m\u001b[0m\u001b[0;34m\u001b[0m\u001b[0m\n",
      "\u001b[0m\u001b[0;32m      8 \u001b[0;31m    \u001b[0mvh\u001b[0m \u001b[0;34m=\u001b[0m \u001b[0mvh\u001b[0m\u001b[0;34m[\u001b[0m\u001b[0;34m:\u001b[0m\u001b[0mr\u001b[0m\u001b[0;34m,\u001b[0m \u001b[0;34m:\u001b[0m\u001b[0;34m]\u001b[0m\u001b[0;34m\u001b[0m\u001b[0;34m\u001b[0m\u001b[0m\n",
      "\u001b[0m\u001b[0;32m      9 \u001b[0;31m    \u001b[0mt1\u001b[0m \u001b[0;34m=\u001b[0m \u001b[0ml\u001b[0m \u001b[0;34m*\u001b[0m \u001b[0mnp\u001b[0m\u001b[0;34m.\u001b[0m\u001b[0msum\u001b[0m\u001b[0;34m(\u001b[0m\u001b[0mZ\u001b[0m\u001b[0;34m*\u001b[0m\u001b[0;34m(\u001b[0m\u001b[0mu\u001b[0m\u001b[0;34m.\u001b[0m\u001b[0mdot\u001b[0m\u001b[0;34m(\u001b[0m\u001b[0mvh\u001b[0m\u001b[0;34m)\u001b[0m\u001b[0;34m)\u001b[0m\u001b[0;34m)\u001b[0m \u001b[0;31m# lambda * <Z, UV^T>\u001b[0m\u001b[0;34m\u001b[0m\u001b[0;34m\u001b[0m\u001b[0m\n",
      "\u001b[0m\n"
     ]
    },
    {
     "name": "stdout",
     "output_type": "stream",
     "text": [
      "ipdb>  n\n"
     ]
    },
    {
     "name": "stdout",
     "output_type": "stream",
     "text": [
      "> \u001b[0;32m/tmp/ipykernel_2490066/1749465253.py\u001b[0m(8)\u001b[0;36mdebias\u001b[0;34m()\u001b[0m\n",
      "\u001b[0;32m      6 \u001b[0;31m    \u001b[0mpdb\u001b[0m\u001b[0;34m.\u001b[0m\u001b[0mset_trace\u001b[0m\u001b[0;34m(\u001b[0m\u001b[0;34m)\u001b[0m\u001b[0;34m\u001b[0m\u001b[0;34m\u001b[0m\u001b[0m\n",
      "\u001b[0m\u001b[0;32m      7 \u001b[0;31m    \u001b[0mu\u001b[0m \u001b[0;34m=\u001b[0m \u001b[0mu\u001b[0m\u001b[0;34m[\u001b[0m\u001b[0;34m:\u001b[0m\u001b[0;34m,\u001b[0m \u001b[0;34m:\u001b[0m\u001b[0mr\u001b[0m\u001b[0;34m]\u001b[0m\u001b[0;34m\u001b[0m\u001b[0;34m\u001b[0m\u001b[0m\n",
      "\u001b[0m\u001b[0;32m----> 8 \u001b[0;31m    \u001b[0mvh\u001b[0m \u001b[0;34m=\u001b[0m \u001b[0mvh\u001b[0m\u001b[0;34m[\u001b[0m\u001b[0;34m:\u001b[0m\u001b[0mr\u001b[0m\u001b[0;34m,\u001b[0m \u001b[0;34m:\u001b[0m\u001b[0;34m]\u001b[0m\u001b[0;34m\u001b[0m\u001b[0;34m\u001b[0m\u001b[0m\n",
      "\u001b[0m\u001b[0;32m      9 \u001b[0;31m    \u001b[0mt1\u001b[0m \u001b[0;34m=\u001b[0m \u001b[0ml\u001b[0m \u001b[0;34m*\u001b[0m \u001b[0mnp\u001b[0m\u001b[0;34m.\u001b[0m\u001b[0msum\u001b[0m\u001b[0;34m(\u001b[0m\u001b[0mZ\u001b[0m\u001b[0;34m*\u001b[0m\u001b[0;34m(\u001b[0m\u001b[0mu\u001b[0m\u001b[0;34m.\u001b[0m\u001b[0mdot\u001b[0m\u001b[0;34m(\u001b[0m\u001b[0mvh\u001b[0m\u001b[0;34m)\u001b[0m\u001b[0;34m)\u001b[0m\u001b[0;34m)\u001b[0m \u001b[0;31m# lambda * <Z, UV^T>\u001b[0m\u001b[0;34m\u001b[0m\u001b[0;34m\u001b[0m\u001b[0m\n",
      "\u001b[0m\u001b[0;32m     10 \u001b[0;31m    \u001b[0mPTperpZ\u001b[0m \u001b[0;34m=\u001b[0m \u001b[0;34m(\u001b[0m\u001b[0mnp\u001b[0m\u001b[0;34m.\u001b[0m\u001b[0meye\u001b[0m\u001b[0;34m(\u001b[0m\u001b[0mu\u001b[0m\u001b[0;34m.\u001b[0m\u001b[0mshape\u001b[0m\u001b[0;34m[\u001b[0m\u001b[0;36m0\u001b[0m\u001b[0;34m]\u001b[0m\u001b[0;34m)\u001b[0m \u001b[0;34m-\u001b[0m \u001b[0mu\u001b[0m\u001b[0;34m.\u001b[0m\u001b[0mdot\u001b[0m\u001b[0;34m(\u001b[0m\u001b[0mu\u001b[0m\u001b[0;34m.\u001b[0m\u001b[0mT\u001b[0m\u001b[0;34m)\u001b[0m\u001b[0;34m)\u001b[0m\u001b[0;34m.\u001b[0m\u001b[0mdot\u001b[0m\u001b[0;34m(\u001b[0m\u001b[0mZ\u001b[0m\u001b[0;34m)\u001b[0m\u001b[0;34m.\u001b[0m\u001b[0mdot\u001b[0m\u001b[0;34m(\u001b[0m\u001b[0mnp\u001b[0m\u001b[0;34m.\u001b[0m\u001b[0meye\u001b[0m\u001b[0;34m(\u001b[0m\u001b[0mvh\u001b[0m\u001b[0;34m.\u001b[0m\u001b[0mshape\u001b[0m\u001b[0;34m[\u001b[0m\u001b[0;36m1\u001b[0m\u001b[0;34m]\u001b[0m\u001b[0;34m)\u001b[0m \u001b[0;34m-\u001b[0m \u001b[0mvh\u001b[0m\u001b[0;34m.\u001b[0m\u001b[0mT\u001b[0m\u001b[0;34m.\u001b[0m\u001b[0mdot\u001b[0m\u001b[0;34m(\u001b[0m\u001b[0mvh\u001b[0m\u001b[0;34m)\u001b[0m\u001b[0;34m)\u001b[0m\u001b[0;34m\u001b[0m\u001b[0;34m\u001b[0m\u001b[0m\n",
      "\u001b[0m\n"
     ]
    },
    {
     "name": "stdout",
     "output_type": "stream",
     "text": [
      "ipdb>  n\n"
     ]
    },
    {
     "name": "stdout",
     "output_type": "stream",
     "text": [
      "> \u001b[0;32m/tmp/ipykernel_2490066/1749465253.py\u001b[0m(9)\u001b[0;36mdebias\u001b[0;34m()\u001b[0m\n",
      "\u001b[0;32m      7 \u001b[0;31m    \u001b[0mu\u001b[0m \u001b[0;34m=\u001b[0m \u001b[0mu\u001b[0m\u001b[0;34m[\u001b[0m\u001b[0;34m:\u001b[0m\u001b[0;34m,\u001b[0m \u001b[0;34m:\u001b[0m\u001b[0mr\u001b[0m\u001b[0;34m]\u001b[0m\u001b[0;34m\u001b[0m\u001b[0;34m\u001b[0m\u001b[0m\n",
      "\u001b[0m\u001b[0;32m      8 \u001b[0;31m    \u001b[0mvh\u001b[0m \u001b[0;34m=\u001b[0m \u001b[0mvh\u001b[0m\u001b[0;34m[\u001b[0m\u001b[0;34m:\u001b[0m\u001b[0mr\u001b[0m\u001b[0;34m,\u001b[0m \u001b[0;34m:\u001b[0m\u001b[0;34m]\u001b[0m\u001b[0;34m\u001b[0m\u001b[0;34m\u001b[0m\u001b[0m\n",
      "\u001b[0m\u001b[0;32m----> 9 \u001b[0;31m    \u001b[0mt1\u001b[0m \u001b[0;34m=\u001b[0m \u001b[0ml\u001b[0m \u001b[0;34m*\u001b[0m \u001b[0mnp\u001b[0m\u001b[0;34m.\u001b[0m\u001b[0msum\u001b[0m\u001b[0;34m(\u001b[0m\u001b[0mZ\u001b[0m\u001b[0;34m*\u001b[0m\u001b[0;34m(\u001b[0m\u001b[0mu\u001b[0m\u001b[0;34m.\u001b[0m\u001b[0mdot\u001b[0m\u001b[0;34m(\u001b[0m\u001b[0mvh\u001b[0m\u001b[0;34m)\u001b[0m\u001b[0;34m)\u001b[0m\u001b[0;34m)\u001b[0m \u001b[0;31m# lambda * <Z, UV^T>\u001b[0m\u001b[0;34m\u001b[0m\u001b[0;34m\u001b[0m\u001b[0m\n",
      "\u001b[0m\u001b[0;32m     10 \u001b[0;31m    \u001b[0mPTperpZ\u001b[0m \u001b[0;34m=\u001b[0m \u001b[0;34m(\u001b[0m\u001b[0mnp\u001b[0m\u001b[0;34m.\u001b[0m\u001b[0meye\u001b[0m\u001b[0;34m(\u001b[0m\u001b[0mu\u001b[0m\u001b[0;34m.\u001b[0m\u001b[0mshape\u001b[0m\u001b[0;34m[\u001b[0m\u001b[0;36m0\u001b[0m\u001b[0;34m]\u001b[0m\u001b[0;34m)\u001b[0m \u001b[0;34m-\u001b[0m \u001b[0mu\u001b[0m\u001b[0;34m.\u001b[0m\u001b[0mdot\u001b[0m\u001b[0;34m(\u001b[0m\u001b[0mu\u001b[0m\u001b[0;34m.\u001b[0m\u001b[0mT\u001b[0m\u001b[0;34m)\u001b[0m\u001b[0;34m)\u001b[0m\u001b[0;34m.\u001b[0m\u001b[0mdot\u001b[0m\u001b[0;34m(\u001b[0m\u001b[0mZ\u001b[0m\u001b[0;34m)\u001b[0m\u001b[0;34m.\u001b[0m\u001b[0mdot\u001b[0m\u001b[0;34m(\u001b[0m\u001b[0mnp\u001b[0m\u001b[0;34m.\u001b[0m\u001b[0meye\u001b[0m\u001b[0;34m(\u001b[0m\u001b[0mvh\u001b[0m\u001b[0;34m.\u001b[0m\u001b[0mshape\u001b[0m\u001b[0;34m[\u001b[0m\u001b[0;36m1\u001b[0m\u001b[0;34m]\u001b[0m\u001b[0;34m)\u001b[0m \u001b[0;34m-\u001b[0m \u001b[0mvh\u001b[0m\u001b[0;34m.\u001b[0m\u001b[0mT\u001b[0m\u001b[0;34m.\u001b[0m\u001b[0mdot\u001b[0m\u001b[0;34m(\u001b[0m\u001b[0mvh\u001b[0m\u001b[0;34m)\u001b[0m\u001b[0;34m)\u001b[0m\u001b[0;34m\u001b[0m\u001b[0;34m\u001b[0m\u001b[0m\n",
      "\u001b[0m\u001b[0;32m     11 \u001b[0;31m    \u001b[0mt2\u001b[0m \u001b[0;34m=\u001b[0m \u001b[0mnp\u001b[0m\u001b[0;34m.\u001b[0m\u001b[0msum\u001b[0m\u001b[0;34m(\u001b[0m\u001b[0mPTperpZ\u001b[0m\u001b[0;34m**\u001b[0m\u001b[0;36m2\u001b[0m\u001b[0;34m)\u001b[0m \u001b[0;31m# ||PTperpZ||_F^2\u001b[0m\u001b[0;34m\u001b[0m\u001b[0;34m\u001b[0m\u001b[0m\n",
      "\u001b[0m\n"
     ]
    },
    {
     "name": "stdout",
     "output_type": "stream",
     "text": [
      "ipdb>  n\n"
     ]
    },
    {
     "name": "stdout",
     "output_type": "stream",
     "text": [
      "> \u001b[0;32m/tmp/ipykernel_2490066/1749465253.py\u001b[0m(10)\u001b[0;36mdebias\u001b[0;34m()\u001b[0m\n",
      "\u001b[0;32m      8 \u001b[0;31m    \u001b[0mvh\u001b[0m \u001b[0;34m=\u001b[0m \u001b[0mvh\u001b[0m\u001b[0;34m[\u001b[0m\u001b[0;34m:\u001b[0m\u001b[0mr\u001b[0m\u001b[0;34m,\u001b[0m \u001b[0;34m:\u001b[0m\u001b[0;34m]\u001b[0m\u001b[0;34m\u001b[0m\u001b[0;34m\u001b[0m\u001b[0m\n",
      "\u001b[0m\u001b[0;32m      9 \u001b[0;31m    \u001b[0mt1\u001b[0m \u001b[0;34m=\u001b[0m \u001b[0ml\u001b[0m \u001b[0;34m*\u001b[0m \u001b[0mnp\u001b[0m\u001b[0;34m.\u001b[0m\u001b[0msum\u001b[0m\u001b[0;34m(\u001b[0m\u001b[0mZ\u001b[0m\u001b[0;34m*\u001b[0m\u001b[0;34m(\u001b[0m\u001b[0mu\u001b[0m\u001b[0;34m.\u001b[0m\u001b[0mdot\u001b[0m\u001b[0;34m(\u001b[0m\u001b[0mvh\u001b[0m\u001b[0;34m)\u001b[0m\u001b[0;34m)\u001b[0m\u001b[0;34m)\u001b[0m \u001b[0;31m# lambda * <Z, UV^T>\u001b[0m\u001b[0;34m\u001b[0m\u001b[0;34m\u001b[0m\u001b[0m\n",
      "\u001b[0m\u001b[0;32m---> 10 \u001b[0;31m    \u001b[0mPTperpZ\u001b[0m \u001b[0;34m=\u001b[0m \u001b[0;34m(\u001b[0m\u001b[0mnp\u001b[0m\u001b[0;34m.\u001b[0m\u001b[0meye\u001b[0m\u001b[0;34m(\u001b[0m\u001b[0mu\u001b[0m\u001b[0;34m.\u001b[0m\u001b[0mshape\u001b[0m\u001b[0;34m[\u001b[0m\u001b[0;36m0\u001b[0m\u001b[0;34m]\u001b[0m\u001b[0;34m)\u001b[0m \u001b[0;34m-\u001b[0m \u001b[0mu\u001b[0m\u001b[0;34m.\u001b[0m\u001b[0mdot\u001b[0m\u001b[0;34m(\u001b[0m\u001b[0mu\u001b[0m\u001b[0;34m.\u001b[0m\u001b[0mT\u001b[0m\u001b[0;34m)\u001b[0m\u001b[0;34m)\u001b[0m\u001b[0;34m.\u001b[0m\u001b[0mdot\u001b[0m\u001b[0;34m(\u001b[0m\u001b[0mZ\u001b[0m\u001b[0;34m)\u001b[0m\u001b[0;34m.\u001b[0m\u001b[0mdot\u001b[0m\u001b[0;34m(\u001b[0m\u001b[0mnp\u001b[0m\u001b[0;34m.\u001b[0m\u001b[0meye\u001b[0m\u001b[0;34m(\u001b[0m\u001b[0mvh\u001b[0m\u001b[0;34m.\u001b[0m\u001b[0mshape\u001b[0m\u001b[0;34m[\u001b[0m\u001b[0;36m1\u001b[0m\u001b[0;34m]\u001b[0m\u001b[0;34m)\u001b[0m \u001b[0;34m-\u001b[0m \u001b[0mvh\u001b[0m\u001b[0;34m.\u001b[0m\u001b[0mT\u001b[0m\u001b[0;34m.\u001b[0m\u001b[0mdot\u001b[0m\u001b[0;34m(\u001b[0m\u001b[0mvh\u001b[0m\u001b[0;34m)\u001b[0m\u001b[0;34m)\u001b[0m\u001b[0;34m\u001b[0m\u001b[0;34m\u001b[0m\u001b[0m\n",
      "\u001b[0m\u001b[0;32m     11 \u001b[0;31m    \u001b[0mt2\u001b[0m \u001b[0;34m=\u001b[0m \u001b[0mnp\u001b[0m\u001b[0;34m.\u001b[0m\u001b[0msum\u001b[0m\u001b[0;34m(\u001b[0m\u001b[0mPTperpZ\u001b[0m\u001b[0;34m**\u001b[0m\u001b[0;36m2\u001b[0m\u001b[0;34m)\u001b[0m \u001b[0;31m# ||PTperpZ||_F^2\u001b[0m\u001b[0;34m\u001b[0m\u001b[0;34m\u001b[0m\u001b[0m\n",
      "\u001b[0m\u001b[0;32m     12 \u001b[0;31m\u001b[0;34m\u001b[0m\u001b[0m\n",
      "\u001b[0m\n"
     ]
    },
    {
     "name": "stdout",
     "output_type": "stream",
     "text": [
      "ipdb>  print(t1)\n"
     ]
    },
    {
     "name": "stdout",
     "output_type": "stream",
     "text": [
      "497.50263151481994\n"
     ]
    },
    {
     "name": "stdout",
     "output_type": "stream",
     "text": [
      "ipdb>  print(Z)\n"
     ]
    },
    {
     "name": "stdout",
     "output_type": "stream",
     "text": [
      "[[0.         0.87788854 0.         ... 0.         0.87788854 0.87788854]\n",
      " [0.         0.         0.         ... 0.         0.         0.        ]\n",
      " [0.87788854 0.87788854 0.         ... 0.         0.87788854 0.        ]\n",
      " ...\n",
      " [0.87788854 0.87788854 0.         ... 0.         0.87788854 0.        ]\n",
      " [0.87788854 0.87788854 0.         ... 0.         0.         0.87788854]\n",
      " [0.87788854 0.         0.         ... 0.         0.87788854 0.        ]]\n"
     ]
    },
    {
     "name": "stdout",
     "output_type": "stream",
     "text": [
      "ipdb>  print(np.sum(Z))\n"
     ]
    },
    {
     "name": "stdout",
     "output_type": "stream",
     "text": [
      "3874.9999999999995\n"
     ]
    },
    {
     "name": "stdout",
     "output_type": "stream",
     "text": [
      "ipdb>  print(Z*(u.dot(vh)))\n"
     ]
    },
    {
     "name": "stdout",
     "output_type": "stream",
     "text": [
      "[[-0.          0.1219242  -0.         ... -0.          0.1211366\n",
      "   0.09946439]\n",
      " [-0.          0.         -0.         ... -0.          0.\n",
      "  -0.        ]\n",
      " [ 0.04366568  0.04181148 -0.         ... -0.          0.08892411\n",
      "  -0.        ]\n",
      " ...\n",
      " [ 0.1118824   0.12949322  0.         ... -0.          0.02264649\n",
      "  -0.        ]\n",
      " [ 0.07114045  0.07888769 -0.         ...  0.         -0.\n",
      "   0.09178158]\n",
      " [ 0.08419776 -0.         -0.         ... -0.          0.07665131\n",
      "  -0.        ]]\n"
     ]
    },
    {
     "name": "stdout",
     "output_type": "stream",
     "text": [
      "ipdb>  tau\n"
     ]
    },
    {
     "name": "stdout",
     "output_type": "stream",
     "text": [
      "1.0758190193954564\n"
     ]
    },
    {
     "name": "stdout",
     "output_type": "stream",
     "text": [
      "ipdb>  n\n"
     ]
    },
    {
     "name": "stdout",
     "output_type": "stream",
     "text": [
      "> \u001b[0;32m/tmp/ipykernel_2490066/1749465253.py\u001b[0m(11)\u001b[0;36mdebias\u001b[0;34m()\u001b[0m\n",
      "\u001b[0;32m      9 \u001b[0;31m    \u001b[0mt1\u001b[0m \u001b[0;34m=\u001b[0m \u001b[0ml\u001b[0m \u001b[0;34m*\u001b[0m \u001b[0mnp\u001b[0m\u001b[0;34m.\u001b[0m\u001b[0msum\u001b[0m\u001b[0;34m(\u001b[0m\u001b[0mZ\u001b[0m\u001b[0;34m*\u001b[0m\u001b[0;34m(\u001b[0m\u001b[0mu\u001b[0m\u001b[0;34m.\u001b[0m\u001b[0mdot\u001b[0m\u001b[0;34m(\u001b[0m\u001b[0mvh\u001b[0m\u001b[0;34m)\u001b[0m\u001b[0;34m)\u001b[0m\u001b[0;34m)\u001b[0m \u001b[0;31m# lambda * <Z, UV^T>\u001b[0m\u001b[0;34m\u001b[0m\u001b[0;34m\u001b[0m\u001b[0m\n",
      "\u001b[0m\u001b[0;32m     10 \u001b[0;31m    \u001b[0mPTperpZ\u001b[0m \u001b[0;34m=\u001b[0m \u001b[0;34m(\u001b[0m\u001b[0mnp\u001b[0m\u001b[0;34m.\u001b[0m\u001b[0meye\u001b[0m\u001b[0;34m(\u001b[0m\u001b[0mu\u001b[0m\u001b[0;34m.\u001b[0m\u001b[0mshape\u001b[0m\u001b[0;34m[\u001b[0m\u001b[0;36m0\u001b[0m\u001b[0;34m]\u001b[0m\u001b[0;34m)\u001b[0m \u001b[0;34m-\u001b[0m \u001b[0mu\u001b[0m\u001b[0;34m.\u001b[0m\u001b[0mdot\u001b[0m\u001b[0;34m(\u001b[0m\u001b[0mu\u001b[0m\u001b[0;34m.\u001b[0m\u001b[0mT\u001b[0m\u001b[0;34m)\u001b[0m\u001b[0;34m)\u001b[0m\u001b[0;34m.\u001b[0m\u001b[0mdot\u001b[0m\u001b[0;34m(\u001b[0m\u001b[0mZ\u001b[0m\u001b[0;34m)\u001b[0m\u001b[0;34m.\u001b[0m\u001b[0mdot\u001b[0m\u001b[0;34m(\u001b[0m\u001b[0mnp\u001b[0m\u001b[0;34m.\u001b[0m\u001b[0meye\u001b[0m\u001b[0;34m(\u001b[0m\u001b[0mvh\u001b[0m\u001b[0;34m.\u001b[0m\u001b[0mshape\u001b[0m\u001b[0;34m[\u001b[0m\u001b[0;36m1\u001b[0m\u001b[0;34m]\u001b[0m\u001b[0;34m)\u001b[0m \u001b[0;34m-\u001b[0m \u001b[0mvh\u001b[0m\u001b[0;34m.\u001b[0m\u001b[0mT\u001b[0m\u001b[0;34m.\u001b[0m\u001b[0mdot\u001b[0m\u001b[0;34m(\u001b[0m\u001b[0mvh\u001b[0m\u001b[0;34m)\u001b[0m\u001b[0;34m)\u001b[0m\u001b[0;34m\u001b[0m\u001b[0;34m\u001b[0m\u001b[0m\n",
      "\u001b[0m\u001b[0;32m---> 11 \u001b[0;31m    \u001b[0mt2\u001b[0m \u001b[0;34m=\u001b[0m \u001b[0mnp\u001b[0m\u001b[0;34m.\u001b[0m\u001b[0msum\u001b[0m\u001b[0;34m(\u001b[0m\u001b[0mPTperpZ\u001b[0m\u001b[0;34m**\u001b[0m\u001b[0;36m2\u001b[0m\u001b[0;34m)\u001b[0m \u001b[0;31m# ||PTperpZ||_F^2\u001b[0m\u001b[0;34m\u001b[0m\u001b[0;34m\u001b[0m\u001b[0m\n",
      "\u001b[0m\u001b[0;32m     12 \u001b[0;31m\u001b[0;34m\u001b[0m\u001b[0m\n",
      "\u001b[0m\u001b[0;32m     13 \u001b[0;31m    \u001b[0;31m#print('PUVZ {}, PUZ {}, PVZ {}, PTperZ {}, Z {}'.format(np.sum((u.T.dot(Z).dot(vh.T))**2), np.sum((u.dot(u.T).dot(Z))**2), np.sum((Z.dot(vh.T.dot(vh)))**2), t2, np.sum(Z**2)))\u001b[0m\u001b[0;34m\u001b[0m\u001b[0;34m\u001b[0m\u001b[0m\n",
      "\u001b[0m\n"
     ]
    },
    {
     "name": "stdout",
     "output_type": "stream",
     "text": [
      "ipdb>  PTperpZ\n"
     ]
    },
    {
     "name": "stdout",
     "output_type": "stream",
     "text": [
      "array([[ 0.00746664, -0.05473189,  0.04700012, ..., -0.07588464,\n",
      "         0.00390397,  0.02131749],\n",
      "       [-0.00128667, -0.01965863,  0.02683666, ..., -0.05823914,\n",
      "        -0.07071064, -0.0037007 ],\n",
      "       [-0.00036591, -0.00049349, -0.02864512, ...,  0.00216023,\n",
      "         0.03390891,  0.03339999],\n",
      "       ...,\n",
      "       [-0.05143057,  0.01492093, -0.07366742, ...,  0.009512  ,\n",
      "         0.02296832, -0.06109389],\n",
      "       [ 0.0183246 ,  0.05871748, -0.00476046, ..., -0.05979437,\n",
      "        -0.05760862, -0.02509637],\n",
      "       [ 0.0438587 , -0.05088484,  0.02321544, ..., -0.03161029,\n",
      "         0.01475242,  0.00095851]])\n"
     ]
    },
    {
     "name": "stdout",
     "output_type": "stream",
     "text": [
      "ipdb>  n\n"
     ]
    },
    {
     "name": "stdout",
     "output_type": "stream",
     "text": [
      "> \u001b[0;32m/tmp/ipykernel_2490066/1749465253.py\u001b[0m(14)\u001b[0;36mdebias\u001b[0;34m()\u001b[0m\n",
      "\u001b[0;32m     12 \u001b[0;31m\u001b[0;34m\u001b[0m\u001b[0m\n",
      "\u001b[0m\u001b[0;32m     13 \u001b[0;31m    \u001b[0;31m#print('PUVZ {}, PUZ {}, PVZ {}, PTperZ {}, Z {}'.format(np.sum((u.T.dot(Z).dot(vh.T))**2), np.sum((u.dot(u.T).dot(Z))**2), np.sum((Z.dot(vh.T.dot(vh)))**2), t2, np.sum(Z**2)))\u001b[0m\u001b[0;34m\u001b[0m\u001b[0;34m\u001b[0m\u001b[0m\n",
      "\u001b[0m\u001b[0;32m---> 14 \u001b[0;31m    \u001b[0mM_debias\u001b[0m \u001b[0;34m=\u001b[0m \u001b[0mM\u001b[0m \u001b[0;34m+\u001b[0m \u001b[0ml\u001b[0m \u001b[0;34m*\u001b[0m \u001b[0mu\u001b[0m\u001b[0;34m.\u001b[0m\u001b[0mdot\u001b[0m\u001b[0;34m(\u001b[0m\u001b[0mvh\u001b[0m\u001b[0;34m)\u001b[0m \u001b[0;34m+\u001b[0m \u001b[0mt1\u001b[0m \u001b[0;34m/\u001b[0m \u001b[0mt2\u001b[0m \u001b[0;34m*\u001b[0m \u001b[0;34m(\u001b[0m\u001b[0mZ\u001b[0m \u001b[0;34m-\u001b[0m \u001b[0mPTperpZ\u001b[0m\u001b[0;34m)\u001b[0m \u001b[0;31m# original M_debias\u001b[0m\u001b[0;34m\u001b[0m\u001b[0;34m\u001b[0m\u001b[0m\n",
      "\u001b[0m\u001b[0;32m     15 \u001b[0;31m    \u001b[0;31m# M_debias = M + t1 / t2\u001b[0m\u001b[0;34m\u001b[0m\u001b[0;34m\u001b[0m\u001b[0m\n",
      "\u001b[0m\u001b[0;32m     16 \u001b[0;31m    \u001b[0mprint\u001b[0m\u001b[0;34m(\u001b[0m\u001b[0;34m\"t1, t2: \"\u001b[0m\u001b[0;34m,\u001b[0m \u001b[0mt1\u001b[0m\u001b[0;34m,\u001b[0m \u001b[0mt2\u001b[0m\u001b[0;34m)\u001b[0m\u001b[0;34m\u001b[0m\u001b[0;34m\u001b[0m\u001b[0m\n",
      "\u001b[0m\n"
     ]
    },
    {
     "name": "stdout",
     "output_type": "stream",
     "text": [
      "ipdb>  t2\n"
     ]
    },
    {
     "name": "stdout",
     "output_type": "stream",
     "text": [
      "12.397486642621299\n"
     ]
    },
    {
     "name": "stdout",
     "output_type": "stream",
     "text": [
      "ipdb>  print(tau - t1 / t2)\n"
     ]
    },
    {
     "name": "stdout",
     "output_type": "stream",
     "text": [
      "-39.05349475654817\n"
     ]
    },
    {
     "name": "stdout",
     "output_type": "stream",
     "text": [
      "ipdb>  n\n"
     ]
    },
    {
     "name": "stdout",
     "output_type": "stream",
     "text": [
      "> \u001b[0;32m/tmp/ipykernel_2490066/1749465253.py\u001b[0m(16)\u001b[0;36mdebias\u001b[0;34m()\u001b[0m\n",
      "\u001b[0;32m     14 \u001b[0;31m    \u001b[0mM_debias\u001b[0m \u001b[0;34m=\u001b[0m \u001b[0mM\u001b[0m \u001b[0;34m+\u001b[0m \u001b[0ml\u001b[0m \u001b[0;34m*\u001b[0m \u001b[0mu\u001b[0m\u001b[0;34m.\u001b[0m\u001b[0mdot\u001b[0m\u001b[0;34m(\u001b[0m\u001b[0mvh\u001b[0m\u001b[0;34m)\u001b[0m \u001b[0;34m+\u001b[0m \u001b[0mt1\u001b[0m \u001b[0;34m/\u001b[0m \u001b[0mt2\u001b[0m \u001b[0;34m*\u001b[0m \u001b[0;34m(\u001b[0m\u001b[0mZ\u001b[0m \u001b[0;34m-\u001b[0m \u001b[0mPTperpZ\u001b[0m\u001b[0;34m)\u001b[0m \u001b[0;31m# original M_debias\u001b[0m\u001b[0;34m\u001b[0m\u001b[0;34m\u001b[0m\u001b[0m\n",
      "\u001b[0m\u001b[0;32m     15 \u001b[0;31m    \u001b[0;31m# M_debias = M + t1 / t2\u001b[0m\u001b[0;34m\u001b[0m\u001b[0;34m\u001b[0m\u001b[0m\n",
      "\u001b[0m\u001b[0;32m---> 16 \u001b[0;31m    \u001b[0mprint\u001b[0m\u001b[0;34m(\u001b[0m\u001b[0;34m\"t1, t2: \"\u001b[0m\u001b[0;34m,\u001b[0m \u001b[0mt1\u001b[0m\u001b[0;34m,\u001b[0m \u001b[0mt2\u001b[0m\u001b[0;34m)\u001b[0m\u001b[0;34m\u001b[0m\u001b[0;34m\u001b[0m\u001b[0m\n",
      "\u001b[0m\u001b[0;32m     17 \u001b[0;31m    \u001b[0;32mreturn\u001b[0m \u001b[0mtau\u001b[0m \u001b[0;34m-\u001b[0m \u001b[0mt1\u001b[0m \u001b[0;34m/\u001b[0m \u001b[0mt2\u001b[0m\u001b[0;34m,\u001b[0m \u001b[0mM_debias\u001b[0m\u001b[0;34m\u001b[0m\u001b[0;34m\u001b[0m\u001b[0m\n",
      "\u001b[0m\u001b[0;32m     18 \u001b[0;31m\u001b[0;34m\u001b[0m\u001b[0m\n",
      "\u001b[0m\n"
     ]
    },
    {
     "name": "stdout",
     "output_type": "stream",
     "text": [
      "ipdb>  n\n"
     ]
    },
    {
     "name": "stdout",
     "output_type": "stream",
     "text": [
      "t1, t2:  497.50263151481994 12.397486642621299\n",
      "> \u001b[0;32m/tmp/ipykernel_2490066/1749465253.py\u001b[0m(17)\u001b[0;36mdebias\u001b[0;34m()\u001b[0m\n",
      "\u001b[0;32m     15 \u001b[0;31m    \u001b[0;31m# M_debias = M + t1 / t2\u001b[0m\u001b[0;34m\u001b[0m\u001b[0;34m\u001b[0m\u001b[0m\n",
      "\u001b[0m\u001b[0;32m     16 \u001b[0;31m    \u001b[0mprint\u001b[0m\u001b[0;34m(\u001b[0m\u001b[0;34m\"t1, t2: \"\u001b[0m\u001b[0;34m,\u001b[0m \u001b[0mt1\u001b[0m\u001b[0;34m,\u001b[0m \u001b[0mt2\u001b[0m\u001b[0;34m)\u001b[0m\u001b[0;34m\u001b[0m\u001b[0;34m\u001b[0m\u001b[0m\n",
      "\u001b[0m\u001b[0;32m---> 17 \u001b[0;31m    \u001b[0;32mreturn\u001b[0m \u001b[0mtau\u001b[0m \u001b[0;34m-\u001b[0m \u001b[0mt1\u001b[0m \u001b[0;34m/\u001b[0m \u001b[0mt2\u001b[0m\u001b[0;34m,\u001b[0m \u001b[0mM_debias\u001b[0m\u001b[0;34m\u001b[0m\u001b[0;34m\u001b[0m\u001b[0m\n",
      "\u001b[0m\u001b[0;32m     18 \u001b[0;31m\u001b[0;34m\u001b[0m\u001b[0m\n",
      "\u001b[0m\u001b[0;32m     19 \u001b[0;31m\u001b[0;32mdef\u001b[0m \u001b[0mDC_PR_with_l\u001b[0m\u001b[0;34m(\u001b[0m\u001b[0mO\u001b[0m\u001b[0;34m,\u001b[0m \u001b[0mZ\u001b[0m\u001b[0;34m,\u001b[0m \u001b[0ml\u001b[0m\u001b[0;34m,\u001b[0m \u001b[0msuggest_tau\u001b[0m \u001b[0;34m=\u001b[0m \u001b[0;36m0\u001b[0m\u001b[0;34m,\u001b[0m \u001b[0meps\u001b[0m \u001b[0;34m=\u001b[0m \u001b[0;36m1e-6\u001b[0m\u001b[0;34m)\u001b[0m\u001b[0;34m:\u001b[0m\u001b[0;34m\u001b[0m\u001b[0;34m\u001b[0m\u001b[0m\n",
      "\u001b[0m\n"
     ]
    },
    {
     "name": "stdout",
     "output_type": "stream",
     "text": [
      "ipdb>  n\n"
     ]
    },
    {
     "name": "stdout",
     "output_type": "stream",
     "text": [
      "--Return--\n",
      "(-39.05349475654817, array([[-0.30...-0.03935753]]))\n",
      "> \u001b[0;32m/tmp/ipykernel_2490066/1749465253.py\u001b[0m(17)\u001b[0;36mdebias\u001b[0;34m()\u001b[0m\n",
      "\u001b[0;32m     15 \u001b[0;31m    \u001b[0;31m# M_debias = M + t1 / t2\u001b[0m\u001b[0;34m\u001b[0m\u001b[0;34m\u001b[0m\u001b[0m\n",
      "\u001b[0m\u001b[0;32m     16 \u001b[0;31m    \u001b[0mprint\u001b[0m\u001b[0;34m(\u001b[0m\u001b[0;34m\"t1, t2: \"\u001b[0m\u001b[0;34m,\u001b[0m \u001b[0mt1\u001b[0m\u001b[0;34m,\u001b[0m \u001b[0mt2\u001b[0m\u001b[0;34m)\u001b[0m\u001b[0;34m\u001b[0m\u001b[0;34m\u001b[0m\u001b[0m\n",
      "\u001b[0m\u001b[0;32m---> 17 \u001b[0;31m    \u001b[0;32mreturn\u001b[0m \u001b[0mtau\u001b[0m \u001b[0;34m-\u001b[0m \u001b[0mt1\u001b[0m \u001b[0;34m/\u001b[0m \u001b[0mt2\u001b[0m\u001b[0;34m,\u001b[0m \u001b[0mM_debias\u001b[0m\u001b[0;34m\u001b[0m\u001b[0;34m\u001b[0m\u001b[0m\n",
      "\u001b[0m\u001b[0;32m     18 \u001b[0;31m\u001b[0;34m\u001b[0m\u001b[0m\n",
      "\u001b[0m\u001b[0;32m     19 \u001b[0;31m\u001b[0;32mdef\u001b[0m \u001b[0mDC_PR_with_l\u001b[0m\u001b[0;34m(\u001b[0m\u001b[0mO\u001b[0m\u001b[0;34m,\u001b[0m \u001b[0mZ\u001b[0m\u001b[0;34m,\u001b[0m \u001b[0ml\u001b[0m\u001b[0;34m,\u001b[0m \u001b[0msuggest_tau\u001b[0m \u001b[0;34m=\u001b[0m \u001b[0;36m0\u001b[0m\u001b[0;34m,\u001b[0m \u001b[0meps\u001b[0m \u001b[0;34m=\u001b[0m \u001b[0;36m1e-6\u001b[0m\u001b[0;34m)\u001b[0m\u001b[0;34m:\u001b[0m\u001b[0;34m\u001b[0m\u001b[0;34m\u001b[0m\u001b[0m\n",
      "\u001b[0m\n"
     ]
    },
    {
     "name": "stdout",
     "output_type": "stream",
     "text": [
      "ipdb>  n\n"
     ]
    },
    {
     "name": "stdout",
     "output_type": "stream",
     "text": [
      "> \u001b[0;32m/tmp/ipykernel_2490066/1749465253.py\u001b[0m(58)\u001b[0;36mDC_PR_with_suggested_rank\u001b[0;34m()\u001b[0m\n",
      "\u001b[0;32m     56 \u001b[0;31m            \u001b[0;31m# print(\"pre_tau: \", pre_tau)\u001b[0m\u001b[0;34m\u001b[0m\u001b[0;34m\u001b[0m\u001b[0m\n",
      "\u001b[0m\u001b[0;32m     57 \u001b[0;31m            \u001b[0mtau_debias\u001b[0m\u001b[0;34m,\u001b[0m \u001b[0mM_debias\u001b[0m \u001b[0;34m=\u001b[0m \u001b[0mdebias\u001b[0m\u001b[0;34m(\u001b[0m\u001b[0mpre_M\u001b[0m\u001b[0;34m,\u001b[0m \u001b[0mpre_tau\u001b[0m\u001b[0;34m,\u001b[0m \u001b[0mZ\u001b[0m\u001b[0;34m,\u001b[0m \u001b[0ml\u001b[0m\u001b[0;34m*\u001b[0m\u001b[0mcoef\u001b[0m\u001b[0;34m)\u001b[0m\u001b[0;34m\u001b[0m\u001b[0;34m\u001b[0m\u001b[0m\n",
      "\u001b[0m\u001b[0;32m---> 58 \u001b[0;31m            \u001b[0;32mreturn\u001b[0m \u001b[0mM_debias\u001b[0m\u001b[0;34m,\u001b[0m \u001b[0mtau_debias\u001b[0m\u001b[0;34m,\u001b[0m \u001b[0mpre_M\u001b[0m\u001b[0;34m,\u001b[0m \u001b[0mpre_tau\u001b[0m\u001b[0;34m\u001b[0m\u001b[0;34m\u001b[0m\u001b[0m\n",
      "\u001b[0m\u001b[0;32m     59 \u001b[0;31m        \u001b[0mpre_M\u001b[0m \u001b[0;34m=\u001b[0m \u001b[0mM\u001b[0m\u001b[0;34m\u001b[0m\u001b[0;34m\u001b[0m\u001b[0m\n",
      "\u001b[0m\u001b[0;32m     60 \u001b[0;31m        \u001b[0mpre_tau\u001b[0m \u001b[0;34m=\u001b[0m \u001b[0mtau\u001b[0m\u001b[0;34m\u001b[0m\u001b[0;34m\u001b[0m\u001b[0m\n",
      "\u001b[0m\n"
     ]
    },
    {
     "name": "stdout",
     "output_type": "stream",
     "text": [
      "ipdb>  print(Z)\n"
     ]
    },
    {
     "name": "stdout",
     "output_type": "stream",
     "text": [
      "[[0.         0.87788854 0.         ... 0.         0.87788854 0.87788854]\n",
      " [0.         0.         0.         ... 0.         0.         0.        ]\n",
      " [0.87788854 0.87788854 0.         ... 0.         0.87788854 0.        ]\n",
      " ...\n",
      " [0.87788854 0.87788854 0.         ... 0.         0.87788854 0.        ]\n",
      " [0.87788854 0.87788854 0.         ... 0.         0.         0.87788854]\n",
      " [0.87788854 0.         0.         ... 0.         0.87788854 0.        ]]\n"
     ]
    },
    {
     "name": "stdout",
     "output_type": "stream",
     "text": [
      "ipdb>  n\n"
     ]
    },
    {
     "name": "stdout",
     "output_type": "stream",
     "text": [
      "--Return--\n",
      "(array([[-0.30...-0.03935753]]), -39.05349475654817, array([[ 0.14... 0.10620025]]), 1.0758190193954564)\n",
      "> \u001b[0;32m/tmp/ipykernel_2490066/1749465253.py\u001b[0m(58)\u001b[0;36mDC_PR_with_suggested_rank\u001b[0;34m()\u001b[0m\n",
      "\u001b[0;32m     56 \u001b[0;31m            \u001b[0;31m# print(\"pre_tau: \", pre_tau)\u001b[0m\u001b[0;34m\u001b[0m\u001b[0;34m\u001b[0m\u001b[0m\n",
      "\u001b[0m\u001b[0;32m     57 \u001b[0;31m            \u001b[0mtau_debias\u001b[0m\u001b[0;34m,\u001b[0m \u001b[0mM_debias\u001b[0m \u001b[0;34m=\u001b[0m \u001b[0mdebias\u001b[0m\u001b[0;34m(\u001b[0m\u001b[0mpre_M\u001b[0m\u001b[0;34m,\u001b[0m \u001b[0mpre_tau\u001b[0m\u001b[0;34m,\u001b[0m \u001b[0mZ\u001b[0m\u001b[0;34m,\u001b[0m \u001b[0ml\u001b[0m\u001b[0;34m*\u001b[0m\u001b[0mcoef\u001b[0m\u001b[0;34m)\u001b[0m\u001b[0;34m\u001b[0m\u001b[0;34m\u001b[0m\u001b[0m\n",
      "\u001b[0m\u001b[0;32m---> 58 \u001b[0;31m            \u001b[0;32mreturn\u001b[0m \u001b[0mM_debias\u001b[0m\u001b[0;34m,\u001b[0m \u001b[0mtau_debias\u001b[0m\u001b[0;34m,\u001b[0m \u001b[0mpre_M\u001b[0m\u001b[0;34m,\u001b[0m \u001b[0mpre_tau\u001b[0m\u001b[0;34m\u001b[0m\u001b[0;34m\u001b[0m\u001b[0m\n",
      "\u001b[0m\u001b[0;32m     59 \u001b[0;31m        \u001b[0mpre_M\u001b[0m \u001b[0;34m=\u001b[0m \u001b[0mM\u001b[0m\u001b[0;34m\u001b[0m\u001b[0;34m\u001b[0m\u001b[0m\n",
      "\u001b[0m\u001b[0;32m     60 \u001b[0;31m        \u001b[0mpre_tau\u001b[0m \u001b[0;34m=\u001b[0m \u001b[0mtau\u001b[0m\u001b[0;34m\u001b[0m\u001b[0;34m\u001b[0m\u001b[0m\n",
      "\u001b[0m\n"
     ]
    },
    {
     "name": "stdout",
     "output_type": "stream",
     "text": [
      "ipdb>  n\n"
     ]
    },
    {
     "name": "stdout",
     "output_type": "stream",
     "text": [
      "--Return--\n",
      "(array([[-0.30...-0.03935753]]), -39.05349475654817, array([[ 0.14... 0.10620025]]), 1.0758190193954564)\n",
      "> \u001b[0;32m/tmp/ipykernel_2490066/1749465253.py\u001b[0m(68)\u001b[0;36mDC_PR_auto_rank\u001b[0;34m()\u001b[0m\n",
      "\u001b[0;32m     64 \u001b[0;31m    \u001b[0;31m#print(\"running starts.\")\u001b[0m\u001b[0;34m\u001b[0m\u001b[0;34m\u001b[0m\u001b[0m\n",
      "\u001b[0m\u001b[0;32m     65 \u001b[0;31m    \u001b[0ms\u001b[0m \u001b[0;34m=\u001b[0m \u001b[0mnp\u001b[0m\u001b[0;34m.\u001b[0m\u001b[0mlinalg\u001b[0m\u001b[0;34m.\u001b[0m\u001b[0msvd\u001b[0m\u001b[0;34m(\u001b[0m\u001b[0mO\u001b[0m\u001b[0;34m,\u001b[0m \u001b[0mfull_matrices\u001b[0m \u001b[0;34m=\u001b[0m \u001b[0;32mFalse\u001b[0m\u001b[0;34m,\u001b[0m \u001b[0mcompute_uv\u001b[0m\u001b[0;34m=\u001b[0m\u001b[0;32mFalse\u001b[0m\u001b[0;34m)\u001b[0m\u001b[0;34m\u001b[0m\u001b[0;34m\u001b[0m\u001b[0m\n",
      "\u001b[0m\u001b[0;32m     66 \u001b[0;31m    \u001b[0;31m#print(\"runs svd for auto rank.\")\u001b[0m\u001b[0;34m\u001b[0m\u001b[0;34m\u001b[0m\u001b[0m\n",
      "\u001b[0m\u001b[0;32m     67 \u001b[0;31m    \u001b[0msuggest_r\u001b[0m \u001b[0;34m=\u001b[0m \u001b[0mnp\u001b[0m\u001b[0;34m.\u001b[0m\u001b[0msum\u001b[0m\u001b[0;34m(\u001b[0m\u001b[0mnp\u001b[0m\u001b[0;34m.\u001b[0m\u001b[0mcumsum\u001b[0m\u001b[0;34m(\u001b[0m\u001b[0ms\u001b[0m\u001b[0;34m**\u001b[0m\u001b[0;36m2\u001b[0m\u001b[0;34m)\u001b[0m \u001b[0;34m/\u001b[0m \u001b[0mnp\u001b[0m\u001b[0;34m.\u001b[0m\u001b[0msum\u001b[0m\u001b[0;34m(\u001b[0m\u001b[0ms\u001b[0m\u001b[0;34m**\u001b[0m\u001b[0;36m2\u001b[0m\u001b[0;34m)\u001b[0m \u001b[0;34m<=\u001b[0m \u001b[0;36m0.998\u001b[0m\u001b[0;34m)\u001b[0m\u001b[0;34m\u001b[0m\u001b[0;34m\u001b[0m\u001b[0m\n",
      "\u001b[0m\u001b[0;32m---> 68 \u001b[0;31m    \u001b[0;32mreturn\u001b[0m \u001b[0mDC_PR_with_suggested_rank\u001b[0m\u001b[0;34m(\u001b[0m\u001b[0mO\u001b[0m\u001b[0;34m,\u001b[0m \u001b[0mZ\u001b[0m\u001b[0;34m,\u001b[0m \u001b[0msuggest_r\u001b[0m \u001b[0;34m=\u001b[0m \u001b[0msuggest_r\u001b[0m\u001b[0;34m)\u001b[0m\u001b[0;34m\u001b[0m\u001b[0;34m\u001b[0m\u001b[0m\n",
      "\u001b[0m\n"
     ]
    },
    {
     "name": "stdout",
     "output_type": "stream",
     "text": [
      "ipdb>  n\n"
     ]
    },
    {
     "name": "stdout",
     "output_type": "stream",
     "text": [
      "> \u001b[0;32m/tmp/ipykernel_2490066/1320489511.py\u001b[0m(26)\u001b[0;36mworker_proj\u001b[0;34m()\u001b[0m\n",
      "\u001b[0;32m     22 \u001b[0;31m    \u001b[0mP_Z\u001b[0m \u001b[0;34m=\u001b[0m \u001b[0mh_z_vec\u001b[0m\u001b[0;34m.\u001b[0m\u001b[0mdot\u001b[0m\u001b[0;34m(\u001b[0m\u001b[0minv\u001b[0m\u001b[0;34m(\u001b[0m\u001b[0mh_z_vec\u001b[0m\u001b[0;34m.\u001b[0m\u001b[0mT\u001b[0m\u001b[0;34m.\u001b[0m\u001b[0mdot\u001b[0m\u001b[0;34m(\u001b[0m\u001b[0mh_z_vec\u001b[0m\u001b[0;34m)\u001b[0m\u001b[0;34m)\u001b[0m\u001b[0;34m.\u001b[0m\u001b[0mdot\u001b[0m\u001b[0;34m(\u001b[0m\u001b[0mh_z_vec\u001b[0m\u001b[0;34m.\u001b[0m\u001b[0mT\u001b[0m\u001b[0;34m)\u001b[0m\u001b[0;34m)\u001b[0m\u001b[0;34m\u001b[0m\u001b[0;34m\u001b[0m\u001b[0m\n",
      "\u001b[0m\u001b[0;32m     23 \u001b[0;31m    \u001b[0mO_corrected\u001b[0m \u001b[0;34m=\u001b[0m \u001b[0mnp\u001b[0m\u001b[0;34m.\u001b[0m\u001b[0mreshape\u001b[0m\u001b[0;34m(\u001b[0m\u001b[0mP_Z\u001b[0m\u001b[0;34m.\u001b[0m\u001b[0mdot\u001b[0m\u001b[0;34m(\u001b[0m\u001b[0moutcome_mat\u001b[0m\u001b[0;34m.\u001b[0m\u001b[0mreshape\u001b[0m\u001b[0;34m(\u001b[0m\u001b[0;34m[\u001b[0m\u001b[0md1\u001b[0m\u001b[0;34m*\u001b[0m\u001b[0md2\u001b[0m\u001b[0;34m,\u001b[0m \u001b[0;36m1\u001b[0m\u001b[0;34m]\u001b[0m\u001b[0;34m)\u001b[0m\u001b[0;34m)\u001b[0m\u001b[0;34m,\u001b[0m \u001b[0;34m[\u001b[0m\u001b[0md1\u001b[0m\u001b[0;34m,\u001b[0m \u001b[0md2\u001b[0m\u001b[0;34m]\u001b[0m\u001b[0;34m)\u001b[0m\u001b[0;34m\u001b[0m\u001b[0;34m\u001b[0m\u001b[0m\n",
      "\u001b[0m\u001b[0;32m     24 \u001b[0;31m    \u001b[0mZ_corrected\u001b[0m \u001b[0;34m=\u001b[0m \u001b[0mnp\u001b[0m\u001b[0;34m.\u001b[0m\u001b[0mreshape\u001b[0m\u001b[0;34m(\u001b[0m\u001b[0mP_Z\u001b[0m\u001b[0;34m.\u001b[0m\u001b[0mdot\u001b[0m\u001b[0;34m(\u001b[0m\u001b[0mtreat_mat\u001b[0m\u001b[0;34m.\u001b[0m\u001b[0mreshape\u001b[0m\u001b[0;34m(\u001b[0m\u001b[0;34m[\u001b[0m\u001b[0md1\u001b[0m\u001b[0;34m*\u001b[0m\u001b[0md2\u001b[0m\u001b[0;34m,\u001b[0m \u001b[0;36m1\u001b[0m\u001b[0;34m]\u001b[0m\u001b[0;34m)\u001b[0m\u001b[0;34m)\u001b[0m\u001b[0;34m,\u001b[0m \u001b[0;34m[\u001b[0m\u001b[0md1\u001b[0m\u001b[0;34m,\u001b[0m \u001b[0md2\u001b[0m\u001b[0;34m]\u001b[0m\u001b[0;34m)\u001b[0m\u001b[0;34m\u001b[0m\u001b[0;34m\u001b[0m\u001b[0m\n",
      "\u001b[0m\u001b[0;32m     25 \u001b[0;31m    \u001b[0mM\u001b[0m\u001b[0;34m,\u001b[0m \u001b[0mtau\u001b[0m\u001b[0;34m,\u001b[0m \u001b[0mM_raw\u001b[0m\u001b[0;34m,\u001b[0m \u001b[0mtau_raw\u001b[0m \u001b[0;34m=\u001b[0m \u001b[0mDC_PR_auto_rank\u001b[0m\u001b[0;34m(\u001b[0m\u001b[0mO_corrected\u001b[0m\u001b[0;34m,\u001b[0m \u001b[0mZ_corrected\u001b[0m\u001b[0;34m)\u001b[0m\u001b[0;34m\u001b[0m\u001b[0;34m\u001b[0m\u001b[0m\n",
      "\u001b[0m\u001b[0;32m---> 26 \u001b[0;31m    \u001b[0;32mreturn\u001b[0m \u001b[0mM\u001b[0m\u001b[0;34m,\u001b[0m \u001b[0mtau\u001b[0m\u001b[0;34m,\u001b[0m \u001b[0mM_raw\u001b[0m\u001b[0;34m,\u001b[0m \u001b[0mtau_raw\u001b[0m\u001b[0;34m,\u001b[0m \u001b[0mb\u001b[0m\u001b[0;34m\u001b[0m\u001b[0;34m\u001b[0m\u001b[0m\n",
      "\u001b[0m\n"
     ]
    },
    {
     "name": "stdout",
     "output_type": "stream",
     "text": [
      "ipdb>  print(Z)\n"
     ]
    },
    {
     "name": "stdout",
     "output_type": "stream",
     "text": [
      "*** NameError: name 'Z' is not defined\n"
     ]
    },
    {
     "name": "stdout",
     "output_type": "stream",
     "text": [
      "ipdb>  print(treat_mat)\n"
     ]
    },
    {
     "name": "stdout",
     "output_type": "stream",
     "text": [
      "[[0. 1. 0. ... 0. 0. 1.]\n",
      " [0. 0. 0. ... 0. 0. 0.]\n",
      " [1. 1. 0. ... 0. 1. 0.]\n",
      " ...\n",
      " [1. 1. 0. ... 0. 1. 0.]\n",
      " [1. 1. 0. ... 0. 0. 1.]\n",
      " [1. 0. 0. ... 0. 1. 0.]]\n"
     ]
    },
    {
     "name": "stdout",
     "output_type": "stream",
     "text": [
      "ipdb>  print(Z_corrected)\n"
     ]
    },
    {
     "name": "stdout",
     "output_type": "stream",
     "text": [
      "[[0.         0.87788854 0.         ... 0.         0.87788854 0.87788854]\n",
      " [0.         0.         0.         ... 0.         0.         0.        ]\n",
      " [0.87788854 0.87788854 0.         ... 0.         0.87788854 0.        ]\n",
      " ...\n",
      " [0.87788854 0.87788854 0.         ... 0.         0.87788854 0.        ]\n",
      " [0.87788854 0.87788854 0.         ... 0.         0.         0.87788854]\n",
      " [0.87788854 0.         0.         ... 0.         0.87788854 0.        ]]\n"
     ]
    },
    {
     "name": "stdout",
     "output_type": "stream",
     "text": [
      "ipdb>  print(np.sum(Z_corrected))\n"
     ]
    },
    {
     "name": "stdout",
     "output_type": "stream",
     "text": [
      "3874.9999999999995\n"
     ]
    },
    {
     "name": "stdout",
     "output_type": "stream",
     "text": [
      "ipdb>  print(np.sum(treat_mat))\n"
     ]
    },
    {
     "name": "stdout",
     "output_type": "stream",
     "text": [
      "3875.0\n"
     ]
    },
    {
     "name": "stdout",
     "output_type": "stream",
     "text": [
      "ipdb>  print(pre_M)\n"
     ]
    },
    {
     "name": "stdout",
     "output_type": "stream",
     "text": [
      "*** NameError: name 'pre_M' is not defined\n"
     ]
    },
    {
     "name": "stdout",
     "output_type": "stream",
     "text": [
      "ipdb>  print(M_raw)\n"
     ]
    },
    {
     "name": "stdout",
     "output_type": "stream",
     "text": [
      "[[ 0.14590504  0.6920117   0.05937998 ...  0.10775511  0.63852075\n",
      "   0.65375039]\n",
      " [ 0.056036   -0.02808995  0.03720211 ...  0.08867766  0.03271528\n",
      "   0.00599911]\n",
      " [ 0.75493931  0.75774933  0.09821205 ...  0.04222533  0.6573163\n",
      "   0.01052997]\n",
      " ...\n",
      " [ 0.7035102   0.61612701  0.04458444 ...  0.07729037  0.76370453\n",
      "   0.16568941]\n",
      " [ 0.69764793  0.64876759  0.13618859 ...  0.04500353  0.18346401\n",
      "   0.70814728]\n",
      " [ 0.65490532  0.11954172  0.08295777 ...  0.08319877  0.69297795\n",
      "   0.10620025]]\n"
     ]
    },
    {
     "name": "stdout",
     "output_type": "stream",
     "text": [
      "ipdb>  u_raw, s_raw, vh_raw = np.linalg.svd(M_raw, full_matrices = False)\n",
      "ipdb>  print(np.sum(treat_mat*(u_raw.dot(vh_raw)))\n"
     ]
    },
    {
     "name": "stdout",
     "output_type": "stream",
     "text": [
      "*** SyntaxError: unexpected EOF while parsing\n"
     ]
    },
    {
     "name": "stdout",
     "output_type": "stream",
     "text": [
      "ipdb>  print(np.sum(treat_mat*(u_raw.dot(vh_raw))))\n"
     ]
    },
    {
     "name": "stdout",
     "output_type": "stream",
     "text": [
      "390.2135870985397\n"
     ]
    },
    {
     "name": "stdout",
     "output_type": "stream",
     "text": [
      "ipdb>  print(np.sum(Z_corrected*(u_raw.dot(vh_raw))))\n"
     ]
    },
    {
     "name": "stdout",
     "output_type": "stream",
     "text": [
      "390.0762044803349\n"
     ]
    },
    {
     "name": "stdout",
     "output_type": "stream",
     "text": [
      "ipdb>  print((u_raw.dot(vh_raw)).shape)\n"
     ]
    },
    {
     "name": "stdout",
     "output_type": "stream",
     "text": [
      "(100, 100)\n"
     ]
    },
    {
     "name": "stdout",
     "output_type": "stream",
     "text": [
      "ipdb>  UVT = u_raw.dot(vh_raw)\n",
      "ipdb>  PZUVT = np.reshape(P_Z.dot(UVT.reshape([d1*d2, 1])), [d1, d2])\n",
      "ipdb>  np.sum(PZUVT)\n"
     ]
    },
    {
     "name": "stdout",
     "output_type": "stream",
     "text": [
      "444.33454621321255\n"
     ]
    },
    {
     "name": "stdout",
     "output_type": "stream",
     "text": [
      "ipdb>  np.sum(Z_corrected*PZUVT)\n"
     ]
    },
    {
     "name": "stdout",
     "output_type": "stream",
     "text": [
      "390.07620448033504\n"
     ]
    },
    {
     "name": "stdout",
     "output_type": "stream",
     "text": [
      "ipdb>  np.sum(UVT)\n"
     ]
    },
    {
     "name": "stdout",
     "output_type": "stream",
     "text": [
      "98.82390196841646\n"
     ]
    },
    {
     "name": "stdout",
     "output_type": "stream",
     "text": [
      "ipdb>  np.sum(Z_corrected*UVT)\n"
     ]
    },
    {
     "name": "stdout",
     "output_type": "stream",
     "text": [
      "390.0762044803349\n"
     ]
    },
    {
     "name": "stdout",
     "output_type": "stream",
     "text": [
      "ipdb>  np.sum(np.ones([100,100])*UVT)\n"
     ]
    },
    {
     "name": "stdout",
     "output_type": "stream",
     "text": [
      "98.82390196841646\n"
     ]
    },
    {
     "name": "stdout",
     "output_type": "stream",
     "text": [
      "ipdb>  np.amax(Z_corrected)\n"
     ]
    },
    {
     "name": "stdout",
     "output_type": "stream",
     "text": [
      "0.8778885364748528\n"
     ]
    },
    {
     "name": "stdout",
     "output_type": "stream",
     "text": [
      "ipdb>  Z_corrected.shape\n"
     ]
    },
    {
     "name": "stdout",
     "output_type": "stream",
     "text": [
      "(100, 100)\n"
     ]
    },
    {
     "name": "stdout",
     "output_type": "stream",
     "text": [
      "ipdb>  np.amin(UVT)\n"
     ]
    },
    {
     "name": "stdout",
     "output_type": "stream",
     "text": [
      "-0.27462228133099215\n"
     ]
    },
    {
     "name": "stdout",
     "output_type": "stream",
     "text": [
      "ipdb>  quit\n"
     ]
    }
   ],
   "source": [
    "d1 = 100\n",
    "d2 = 100\n",
    "r = 3\n",
    "\n",
    "tau = 2\n",
    "noise_sd = 0.5\n",
    "seed = 0\n",
    "#ray.shutdown()\n",
    "#ray.init()\n",
    "\n",
    "M, tau, M_raw, tau_raw, b = worker(seed, d1, d2, r, tau, noise_sd)\n",
    "\n",
    "#ray.shutdown()"
   ]
  },
  {
   "cell_type": "raw",
   "id": "782f3fb8-babc-4499-9189-0a4b451d1600",
   "metadata": {},
   "source": [
    "ipdb>  u_raw, s_raw, vh_raw = np.linalg.svd(M_raw, full_matrices = False)\n",
    "ipdb>  print(np.sum(treat_mat*(u_raw.dot(vh_raw)))\n",
    "*** SyntaxError: unexpected EOF while parsing\n",
    "ipdb>  print(np.sum(treat_mat*(u_raw.dot(vh_raw))))\n",
    "390.2135870985397\n",
    "ipdb>  print(np.sum(Z_corrected*(u_raw.dot(vh_raw))))\n",
    "390.0762044803349\n",
    "ipdb>  print((u_raw.dot(vh_raw)).shape)\n",
    "(100, 100)\n",
    "ipdb>  UVT = u_raw.dot(vh_raw)\n",
    "ipdb>  PZUVT = np.reshape(P_Z.dot(UVT.reshape([d1*d2, 1])), [d1, d2])\n",
    "ipdb>  np.sum(PZUVT)\n",
    "444.33454621321255\n",
    "ipdb>  np.sum(Z_corrected*PZUVT)\n",
    "390.07620448033504\n",
    "ipdb>  np.sum(UVT)\n",
    "98.82390196841646\n",
    "ipdb>  np.sum(Z_corrected*UVT)\n",
    "390.0762044803349\n",
    "ipdb>  np.sum(np.ones([100,100])*UVT)\n",
    "98.82390196841646\n",
    "ipdb>  np.amax(Z_corrected)\n",
    "0.8778885364748528\n",
    "ipdb>  Z_corrected.shape\n",
    "(100, 100)\n",
    "ipdb>  np.amin(UVT)\n",
    "-0.27462228133099215"
   ]
  },
  {
   "cell_type": "code",
   "execution_count": 101,
   "id": "5c852242-9d74-46ad-829e-da0363e4d984",
   "metadata": {
    "tags": []
   },
   "outputs": [],
   "source": [
    "seed = 0\n",
    "b, z_vec, treat_mat, outcome_mat = generate_dat(seed, d1, d2, r, tau, noise_sd)\n",
    "u_t, s_t, vh_t= np.linalg.svd(b, full_matrices = False)\n",
    "h_z_vec = opt_instrument(z_vec, treat_mat)"
   ]
  },
  {
   "cell_type": "code",
   "execution_count": 102,
   "id": "b0c6d3b3-1801-4b08-8d1a-6f417efbf222",
   "metadata": {
    "tags": []
   },
   "outputs": [
    {
     "name": "stdout",
     "output_type": "stream",
     "text": [
      "-1.153847594006658\n",
      "-1.7725703679194367\n",
      "250.58895399884898\n",
      "295.4108422245108\n"
     ]
    }
   ],
   "source": [
    "P_Z = h_z_vec.dot(inv(h_z_vec.T.dot(h_z_vec)).dot(h_z_vec.T))\n",
    "b_corrected = np.reshape(P_Z.dot(b.reshape([d1*d2, 1])), [d1, d2])\n",
    "Z_corrected = np.reshape(P_Z.dot(treat_mat.reshape([d1*d2, 1])), [d1, d2])\n",
    "u_tc, s_tc, vh_tc = np.linalg.svd(b_corrected, full_matrices = False)\n",
    "print(np.sum(treat_mat * (u_t @ vh_t)))\n",
    "print(np.sum(Z_corrected * (u_t @ vh_t)))\n",
    "print(np.sum(treat_mat * (u_tc @ vh_tc))) # if use BH svd then very large, also the current objective B hat is corresponding to BH\n",
    "print(np.sum(Z_corrected * (u_tc @ vh_tc)))"
   ]
  },
  {
   "cell_type": "code",
   "execution_count": 103,
   "id": "6fb1f79d-c148-4186-8fc2-7f7559a98248",
   "metadata": {
    "tags": []
   },
   "outputs": [],
   "source": [
    "PTperpZ_t = (np.eye(u_t.shape[0]) - u_t.dot(u_t.T)).dot(Z_corrected).dot(np.eye(vh_t.shape[1]) - vh_t.T.dot(vh_t))"
   ]
  },
  {
   "cell_type": "code",
   "execution_count": 105,
   "id": "2dfa158c-264c-4eb6-85c3-a42c19d98d52",
   "metadata": {
    "tags": []
   },
   "outputs": [
    {
     "data": {
      "text/plain": [
       "array([[-1.66671613e-32, -5.17923347e-32,  3.16934256e-31, ...,\n",
       "         3.16677409e-31, -1.52731134e-31, -1.50274665e-31],\n",
       "       [ 4.74418697e-33, -6.68692804e-32, -2.23261657e-32, ...,\n",
       "         1.31786833e-31, -3.16845345e-31, -1.43596078e-31],\n",
       "       [ 2.11208784e-32,  2.96020350e-31, -4.80486532e-31, ...,\n",
       "         8.66094765e-31,  1.58595570e-31, -1.36907836e-30],\n",
       "       ...,\n",
       "       [ 3.78753148e-33, -1.90400529e-31, -4.97468769e-31, ...,\n",
       "         1.32853975e-31, -3.55477883e-31, -4.14185329e-31],\n",
       "       [-2.38233975e-32,  3.44156586e-32,  7.52802154e-31, ...,\n",
       "         3.21091431e-31,  7.27104678e-31,  2.83175046e-31],\n",
       "       [ 4.12238524e-33,  3.24613855e-31,  3.00556994e-31, ...,\n",
       "         1.72020859e-31,  3.47027353e-31,  9.91626004e-32]])"
      ]
     },
     "execution_count": 105,
     "metadata": {},
     "output_type": "execute_result"
    }
   ],
   "source": [
    "PTperpZ_t"
   ]
  },
  {
   "cell_type": "code",
   "execution_count": 37,
   "id": "db38e536-028b-4e5b-9b78-04f43c72e643",
   "metadata": {
    "tags": []
   },
   "outputs": [
    {
     "name": "stdout",
     "output_type": "stream",
     "text": [
      "3\n",
      "100\n"
     ]
    }
   ],
   "source": [
    "print(np.sum(s_t > 1e-4))\n",
    "print(np.sum(s_tc > 1e-4))"
   ]
  },
  {
   "cell_type": "code",
   "execution_count": 39,
   "id": "b56564fa-afaa-4be5-924f-79231833fa1c",
   "metadata": {
    "tags": []
   },
   "outputs": [
    {
     "name": "stdout",
     "output_type": "stream",
     "text": [
      "100\n"
     ]
    }
   ],
   "source": [
    "print(np.linalg.matrix_rank(h_z_vec.reshape([d1,d2])))"
   ]
  },
  {
   "cell_type": "markdown",
   "id": "0177e7c1-947b-423c-a157-280d43580529",
   "metadata": {},
   "source": [
    "## Further testing"
   ]
  },
  {
   "cell_type": "code",
   "execution_count": 11,
   "id": "09093dfb-83f3-483b-a654-eefb760e5db1",
   "metadata": {
    "tags": []
   },
   "outputs": [
    {
     "name": "stderr",
     "output_type": "stream",
     "text": [
      "2023-08-29 01:51:46,718\tINFO worker.py:1636 -- Started a local Ray instance.\n"
     ]
    }
   ],
   "source": [
    "d1 = 100\n",
    "d2 = 100\n",
    "r = 3\n",
    "\n",
    "tau = 2\n",
    "noise_sd = 0.5\n",
    "n_iters = 100\n",
    "\n",
    "ray.shutdown()\n",
    "ray.init()\n",
    "\n",
    "start_time = time.time()\n",
    "all_results_proj = ray.get(\n",
    "   [\n",
    "       worker_proj.remote(seed, d1, d2, r, tau, noise_sd) for seed in range(n_iters)\n",
    "   ]\n",
    ").copy()\n",
    "ray.shutdown()\n",
    "duration = time.time() - start_time"
   ]
  },
  {
   "cell_type": "code",
   "execution_count": 12,
   "id": "610c689b-bb64-4389-995d-3552e48edf7d",
   "metadata": {
    "tags": []
   },
   "outputs": [
    {
     "name": "stdout",
     "output_type": "stream",
     "text": [
      "tau:  1.8266167724351947 0.1924905591894671\n",
      "tau raw:  1.8449670087462997 0.19099058653200937\n"
     ]
    }
   ],
   "source": [
    "#M, tau, M_raw, tau_raw = DC_PR_with_suggested_rank(O, Z, suggest_r = 2)\n",
    "M_arr_proj = [r[0] for r in all_results_proj]\n",
    "tau_arr_proj = np.array([r[1] for r in all_results_proj])\n",
    "M_raw_arr_proj = [r[2] for r in all_results_proj]\n",
    "tau_raw_arr_proj = np.array([r[3] for r in all_results_proj])\n",
    "b_arr_proj = [r[4] for r in all_results_proj]\n",
    "t1_arr_proj = np.array([r[5] for r in all_results_proj])\n",
    "t2_arr_proj = np.array([r[6] for r in all_results_proj])\n",
    "tau_mean_proj = np.mean(tau_arr_proj)\n",
    "tau_sd_proj = np.std(tau_arr_proj)\n",
    "tau_raw_mean_proj = np.mean(tau_raw_arr_proj)\n",
    "tau_raw_sd_proj = np.std(tau_raw_arr_proj)\n",
    "print(\"tau: \", tau_mean_proj, tau_sd_proj)\n",
    "print(\"tau raw: \", tau_raw_mean_proj, tau_raw_sd_proj)"
   ]
  },
  {
   "cell_type": "code",
   "execution_count": 33,
   "id": "b7102a5b-4c9a-4fcd-87cc-4375f515fe08",
   "metadata": {
    "tags": []
   },
   "outputs": [
    {
     "name": "stdout",
     "output_type": "stream",
     "text": [
      "tau:  1.8266167724351947 0.1924905591894671\n",
      "tau raw:  1.8449670087462997 0.19099058653200937\n"
     ]
    }
   ],
   "source": [
    "#M, tau, M_raw, tau_raw = DC_PR_with_suggested_rank(O, Z, suggest_r = 2)\n",
    "M_arr_proj = [r[0] for r in all_results_proj]\n",
    "tau_arr_proj = np.array([r[1] for r in all_results_proj])\n",
    "M_raw_arr_proj = [r[2] for r in all_results_proj]\n",
    "tau_raw_arr_proj = np.array([r[3] for r in all_results_proj])\n",
    "b_arr_proj = [r[4] for r in all_results_proj]\n",
    "t1_arr_proj = np.array([r[5] for r in all_results_proj])\n",
    "t2_arr_proj = np.array([r[6] for r in all_results_proj])\n",
    "tau_mean_proj = np.mean(tau_arr_proj)\n",
    "tau_sd_proj = np.std(tau_arr_proj)\n",
    "tau_raw_mean_proj = np.mean(tau_raw_arr_proj)\n",
    "tau_raw_sd_proj = np.std(tau_raw_arr_proj)\n",
    "print(\"tau: \", tau_mean_proj, tau_sd_proj)\n",
    "print(\"tau raw: \", tau_raw_mean_proj, tau_raw_sd_proj)"
   ]
  },
  {
   "cell_type": "code",
   "execution_count": 20,
   "id": "c8bdae76-be71-4c79-8273-3d97ac155994",
   "metadata": {},
   "outputs": [],
   "source": [
    "np.save('tau_proj.npy', tau_raw_arr)\n",
    "np.save('tau_proj_debiased.npy', tau_arr)"
   ]
  },
  {
   "cell_type": "code",
   "execution_count": 29,
   "id": "fcd85126-574e-437e-8fcc-086f674006d0",
   "metadata": {
    "tags": []
   },
   "outputs": [
    {
     "data": {
      "text/plain": [
       "242.38184356689453"
      ]
     },
     "execution_count": 29,
     "metadata": {},
     "output_type": "execute_result"
    }
   ],
   "source": [
    "duration"
   ]
  },
  {
   "cell_type": "code",
   "execution_count": 34,
   "id": "964415d6-0939-4f39-85be-62adf82bff02",
   "metadata": {
    "tags": []
   },
   "outputs": [
    {
     "data": {
      "text/plain": [
       "(array([0.29299554, 0.19533036, 0.78132143, 0.97665179, 2.24629912,\n",
       "        1.95330358, 2.14863394, 0.68365625, 0.19533036, 0.29299554]),\n",
       " array([1.32130087, 1.42369151, 1.52608215, 1.62847279, 1.73086343,\n",
       "        1.83325406, 1.9356447 , 2.03803534, 2.14042598, 2.24281662,\n",
       "        2.34520725]),\n",
       " <BarContainer object of 10 artists>)"
      ]
     },
     "execution_count": 34,
     "metadata": {},
     "output_type": "execute_result"
    },
    {
     "data": {
      "image/png": "[encoded data removed]",
      "text/plain": [
       "<Figure size 640x480 with 1 Axes>"
      ]
     },
     "metadata": {},
     "output_type": "display_data"
    }
   ],
   "source": [
    "#bin_width = 0.1\n",
    "#bins = int((np.amax(tau_arr) - np.min(tau_arr))/bin_width)\n",
    "plt.hist(tau_raw_arr_proj, density=True)"
   ]
  },
  {
   "cell_type": "code",
   "execution_count": 13,
   "id": "4024fac4-796d-4acf-9f38-c6650c503479",
   "metadata": {
    "tags": []
   },
   "outputs": [
    {
     "data": {
      "text/plain": [
       "(array([ 0.08926831,  0.62487818,  2.85658597,  8.65902622, 12.22975868,\n",
       "        11.6048805 ,  5.35609869,  2.58878103,  0.53560987,  0.08926831]),\n",
       " array([1.88485549, 1.90725986, 1.92966422, 1.95206859, 1.97447296,\n",
       "        1.99687733, 2.01928169, 2.04168606, 2.06409043, 2.08649479,\n",
       "        2.10889916]),\n",
       " <BarContainer object of 10 artists>)"
      ]
     },
     "execution_count": 13,
     "metadata": {},
     "output_type": "execute_result"
    },
    {
     "data": {
      "image/png": "[encoded data removed]",
      "text/plain": [
       "<Figure size 640x480 with 1 Axes>"
      ]
     },
     "metadata": {},
     "output_type": "display_data"
    }
   ],
   "source": [
    "#bin_width = 0.2\n",
    "#bins = int((np.amax(tau_raw_arr) - np.min(tau_raw_arr))/bin_width)\n",
    "plt.hist(tau_raw_arr, density=True)"
   ]
  },
  {
   "cell_type": "code",
   "execution_count": 28,
   "id": "224eaaeb-853e-48d5-b75f-958822fd8037",
   "metadata": {},
   "outputs": [
    {
     "data": {
      "text/plain": [
       "(array([0.05839803, 0.05839803, 0.03893202, 0.1751941 , 0.09733005,\n",
       "        0.19466011, 0.42825224, 1.28475671, 2.49164937, 0.85650447]),\n",
       " array([0.10509031, 0.28102042, 0.45695054, 0.63288065, 0.80881077,\n",
       "        0.98474089, 1.160671  , 1.33660112, 1.51253124, 1.68846135,\n",
       "        1.86439147]),\n",
       " <BarContainer object of 10 artists>)"
      ]
     },
     "execution_count": 28,
     "metadata": {},
     "output_type": "execute_result"
    },
    {
     "data": {
      "image/png": "[encoded data removed]",
      "text/plain": [
       "<Figure size 640x480 with 1 Axes>"
      ]
     },
     "metadata": {},
     "output_type": "display_data"
    }
   ],
   "source": [
    "plt.hist(tau_arr[tau_arr>0], density=True)"
   ]
  },
  {
   "cell_type": "markdown",
   "id": "a6042b1e-a491-4561-9ca9-1d2027d6e6f3",
   "metadata": {},
   "source": [
    "## Test for Z $\\circ$ B"
   ]
  },
  {
   "cell_type": "code",
   "execution_count": 13,
   "id": "e13ac7fe-d5f5-4c23-8759-7770fddcb9be",
   "metadata": {
    "tags": []
   },
   "outputs": [
    {
     "name": "stderr",
     "output_type": "stream",
     "text": [
      "2023-08-29 01:54:34,374\tINFO worker.py:1636 -- Started a local Ray instance.\n"
     ]
    }
   ],
   "source": [
    "d1 = 100\n",
    "d2 = 100\n",
    "r = 3\n",
    "\n",
    "tau = 2\n",
    "noise_sd = 0.5 # change it to 0?\n",
    "n_iters = 500\n",
    "\n",
    "ray.shutdown()\n",
    "ray.init()\n",
    "\n",
    "start_time = time.time()\n",
    "all_results_proj = ray.get(\n",
    "   [\n",
    "       worker_cmm.remote(seed, d1, d2, r, tau, noise_sd) for seed in range(n_iters)\n",
    "   ]\n",
    ").copy()\n",
    "ray.shutdown()\n",
    "duration = time.time() - start_time"
   ]
  },
  {
   "cell_type": "code",
   "execution_count": 14,
   "id": "00ec2e7a-6809-4273-8226-63b6d0e30c35",
   "metadata": {
    "tags": []
   },
   "outputs": [
    {
     "name": "stdout",
     "output_type": "stream",
     "text": [
      "tau:  2.142625533343188 0.19527740738456711\n",
      "tau raw:  2.1414011096404213 0.1817467510962124\n"
     ]
    }
   ],
   "source": [
    "#M, tau, M_raw, tau_raw = DC_PR_with_suggested_rank(O, Z, suggest_r = 2)\n",
    "M_arr_proj = [r[0] for r in all_results_proj]\n",
    "tau_arr_proj = np.array([r[1] for r in all_results_proj])\n",
    "M_raw_arr_proj = [r[2] for r in all_results_proj]\n",
    "tau_raw_arr_proj = np.array([r[3] for r in all_results_proj])\n",
    "b_arr_proj = [r[4] for r in all_results_proj]\n",
    "t1_arr_proj = np.array([r[5] for r in all_results_proj])\n",
    "t2_arr_proj = np.array([r[6] for r in all_results_proj])\n",
    "tau_mean_proj = np.mean(tau_arr_proj)\n",
    "tau_sd_proj = np.std(tau_arr_proj)\n",
    "tau_raw_mean_proj = np.mean(tau_raw_arr_proj)\n",
    "tau_raw_sd_proj = np.std(tau_raw_arr_proj)\n",
    "print(\"tau: \", tau_mean_proj, tau_sd_proj)\n",
    "print(\"tau raw: \", tau_raw_mean_proj, tau_raw_sd_proj)"
   ]
  },
  {
   "cell_type": "code",
   "execution_count": 4,
   "id": "9126bf48-8371-41b2-9deb-2af898d7b1e2",
   "metadata": {
    "tags": []
   },
   "outputs": [
    {
     "name": "stdout",
     "output_type": "stream",
     "text": [
      "tau:  2.142393925708927 0.21789950334953972\n",
      "tau raw:  2.1378355305732306 0.196229455818129\n"
     ]
    }
   ],
   "source": [
    "#M, tau, M_raw, tau_raw = DC_PR_with_suggested_rank(O, Z, suggest_r = 2)\n",
    "M_arr_proj = [r[0] for r in all_results_proj]\n",
    "tau_arr_proj = np.array([r[1] for r in all_results_proj])\n",
    "M_raw_arr_proj = [r[2] for r in all_results_proj]\n",
    "tau_raw_arr_proj = np.array([r[3] for r in all_results_proj])\n",
    "b_arr_proj = [r[4] for r in all_results_proj]\n",
    "t1_arr_proj = np.array([r[5] for r in all_results_proj])\n",
    "t2_arr_proj = np.array([r[6] for r in all_results_proj])\n",
    "tau_mean_proj = np.mean(tau_arr_proj)\n",
    "tau_sd_proj = np.std(tau_arr_proj)\n",
    "tau_raw_mean_proj = np.mean(tau_raw_arr_proj)\n",
    "tau_raw_sd_proj = np.std(tau_raw_arr_proj)\n",
    "print(\"tau: \", tau_mean_proj, tau_sd_proj)\n",
    "print(\"tau raw: \", tau_raw_mean_proj, tau_raw_sd_proj)"
   ]
  },
  {
   "cell_type": "code",
   "execution_count": 6,
   "id": "41bcfbf6-6936-4309-a67f-4cfdc60f39b1",
   "metadata": {
    "tags": []
   },
   "outputs": [
    {
     "data": {
      "text/plain": [
       "(array([0.08248151, 0.08248151, 0.49488908, 0.5773706 , 1.48466725,\n",
       "        1.97955634, 2.06203785, 1.23722271, 0.08248151, 0.16496303]),\n",
       " array([1.46323739, 1.58447667, 1.70571596, 1.82695525, 1.94819454,\n",
       "        2.06943382, 2.19067311, 2.3119124 , 2.43315169, 2.55439097,\n",
       "        2.67563026]),\n",
       " <BarContainer object of 10 artists>)"
      ]
     },
     "execution_count": 6,
     "metadata": {},
     "output_type": "execute_result"
    },
    {
     "data": {
      "image/png": "[encoded data removed]",
      "text/plain": [
       "<Figure size 640x480 with 1 Axes>"
      ]
     },
     "metadata": {},
     "output_type": "display_data"
    }
   ],
   "source": [
    "plt.hist(tau_raw_arr_proj, density=True)"
   ]
  },
  {
   "cell_type": "code",
   "execution_count": 7,
   "id": "6de8363a-ac5e-41ea-9d6a-f090e11a809b",
   "metadata": {
    "tags": []
   },
   "outputs": [
    {
     "data": {
      "text/plain": [
       "(array([0.07906475, 0.07906475, 0.31625901, 0.94877703, 1.58129505,\n",
       "        1.73942456, 1.73942456, 0.86971228, 0.31625901, 0.23719426]),\n",
       " array([1.44719107, 1.57366968, 1.70014829, 1.8266269 , 1.9531055 ,\n",
       "        2.07958411, 2.20606272, 2.33254133, 2.45901994, 2.58549855,\n",
       "        2.71197716]),\n",
       " <BarContainer object of 10 artists>)"
      ]
     },
     "execution_count": 7,
     "metadata": {},
     "output_type": "execute_result"
    },
    {
     "data": {
      "image/png": "[encoded data removed]",
      "text/plain": [
       "<Figure size 640x480 with 1 Axes>"
      ]
     },
     "metadata": {},
     "output_type": "display_data"
    }
   ],
   "source": [
    "plt.hist(tau_arr_proj, density=True)"
   ]
  },
  {
   "cell_type": "markdown",
   "id": "5d5d0400-3a2b-45ec-8032-4de8a552f530",
   "metadata": {},
   "source": [
    "## Test for 2SLS"
   ]
  },
  {
   "cell_type": "code",
   "execution_count": 3,
   "id": "1757ffc4-4e7e-4a74-9b5f-12b5674e56cb",
   "metadata": {
    "tags": []
   },
   "outputs": [
    {
     "name": "stderr",
     "output_type": "stream",
     "text": [
      "2023-08-29 01:31:03,622\tINFO worker.py:1636 -- Started a local Ray instance.\n"
     ]
    }
   ],
   "source": [
    "d1 = 100\n",
    "d2 = 100\n",
    "r = 3\n",
    "\n",
    "tau = 2\n",
    "noise_sd = 0.5 # change it to 0?\n",
    "n_iters = 500\n",
    "\n",
    "ray.shutdown()\n",
    "ray.init()\n",
    "\n",
    "start_time = time.time()\n",
    "all_results_2sls = ray.get(\n",
    "   [\n",
    "       worker_2sls.remote(seed, d1, d2, r, tau, noise_sd) for seed in range(n_iters)\n",
    "   ]\n",
    ").copy()\n",
    "ray.shutdown()\n",
    "duration = time.time() - start_time"
   ]
  },
  {
   "cell_type": "code",
   "execution_count": 7,
   "id": "877ffe2d-da54-4fa5-8f79-e5e8ef87d309",
   "metadata": {
    "tags": []
   },
   "outputs": [],
   "source": [
    "tau_arr_2sls = [r[0] for r in all_results_2sls]"
   ]
  },
  {
   "cell_type": "code",
   "execution_count": 9,
   "id": "106bce3e-2400-454d-b5fc-3a4cdfc7fd98",
   "metadata": {
    "tags": []
   },
   "outputs": [],
   "source": [
    "tau_arr_2sls_mean = np.mean(tau_arr_2sls)\n",
    "tau_arr_2sls_std = np.std(tau_arr_2sls)"
   ]
  },
  {
   "cell_type": "code",
   "execution_count": 10,
   "id": "0decc989-b663-46c5-8004-8c71cfa29108",
   "metadata": {
    "tags": []
   },
   "outputs": [
    {
     "name": "stdout",
     "output_type": "stream",
     "text": [
      "2sls mean:  2.0000791391603143\n",
      "2sls std:  0.1919080222511625\n"
     ]
    }
   ],
   "source": [
    "print(\"2sls mean: \", tau_arr_2sls_mean)\n",
    "print(\"2sls std: \", tau_arr_2sls_std)"
   ]
  },
  {
   "cell_type": "code",
   "execution_count": null,
   "id": "2f8dfdf3-460f-491a-8e71-303c9004ff8f",
   "metadata": {},
   "outputs": [],
   "source": []
  }
 ],
 "metadata": {
  "kernelspec": {
   "display_name": "Python 3 (ipykernel)",
   "language": "python",
   "name": "python3"
  },
  "language_info": {
   "codemirror_mode": {
    "name": "ipython",
    "version": 3
   },
   "file_extension": ".py",
   "mimetype": "text/x-python",
   "name": "python",
   "nbconvert_exporter": "python",
   "pygments_lexer": "ipython3",
   "version": "3.7.16"
  }
 },
 "nbformat": 4,
 "nbformat_minor": 5
}
